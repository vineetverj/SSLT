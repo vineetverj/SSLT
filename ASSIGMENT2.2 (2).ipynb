{
 "cells": [
  {
   "cell_type": "code",
   "execution_count": 1,
   "id": "232c7f9f-3829-41ba-b8e4-4ab8fe39643d",
   "metadata": {},
   "outputs": [],
   "source": [
    "#1. Write a program to reverse a string."
   ]
  },
  {
   "cell_type": "code",
   "execution_count": 2,
   "id": "c1b16c84-a96b-4fb6-b195-86e10964b486",
   "metadata": {},
   "outputs": [
    {
     "name": "stdout",
     "output_type": "stream",
     "text": [
      "sllikswp\n"
     ]
    }
   ],
   "source": [
    "str =  \"pwskills\"\n",
    "result = str[::-1]\n",
    "print(result)"
   ]
  },
  {
   "cell_type": "code",
   "execution_count": 5,
   "id": "79dbe1af-ebae-4027-a1fd-90d9474b0189",
   "metadata": {},
   "outputs": [],
   "source": [
    "#2. Check if a string is a palindrome.\n"
   ]
  },
  {
   "cell_type": "code",
   "execution_count": null,
   "id": "d3306a60-3e9c-489f-ba62-a5880c0b0f84",
   "metadata": {},
   "outputs": [],
   "source": [
    "str = input(\"enter the string\")\n",
    "result = str[::-1]\n",
    "if(result == str):\n",
    "    \n",
    "    print(\"palindrome\")\n",
    "else:\n",
    "    \n",
    "    print(\"not palindrome\")"
   ]
  },
  {
   "cell_type": "code",
   "execution_count": null,
   "id": "beca00a1-ef46-40c4-8e7f-e457ea8e8d3e",
   "metadata": {},
   "outputs": [],
   "source": [
    "3. Convert a string to uppercase.\n"
   ]
  },
  {
   "cell_type": "code",
   "execution_count": null,
   "id": "2d44a11d-ed3f-4a9a-8e24-b272cda34024",
   "metadata": {},
   "outputs": [],
   "source": [
    "str = input(\"enter the string\")\n",
    "print(str.upper())"
   ]
  },
  {
   "cell_type": "code",
   "execution_count": null,
   "id": "47af3af5-8be7-4dd8-8cf0-5a4c8e9fecdc",
   "metadata": {},
   "outputs": [],
   "source": [
    "4. Convert a string to lowercase."
   ]
  },
  {
   "cell_type": "code",
   "execution_count": null,
   "id": "83e461f3-16de-4c04-8aa8-ca569d85d095",
   "metadata": {},
   "outputs": [],
   "source": [
    "str  = input(\"enter the string\")\n",
    "print(str.lower())"
   ]
  },
  {
   "cell_type": "code",
   "execution_count": null,
   "id": "7163b316-b0d2-4a1e-9c3e-7e42da081d98",
   "metadata": {},
   "outputs": [],
   "source": [
    "5. Count the number of vowels in a string."
   ]
  },
  {
   "cell_type": "code",
   "execution_count": null,
   "id": "8937dc12-52e4-46df-8e04-23e3daada7c5",
   "metadata": {},
   "outputs": [],
   "source": [
    "vowels = \"aeiouAEIOU\"\n",
    "str = input(\"enter the string\")\n",
    "count = 0\n",
    "for char in str:\n",
    "    if char in vowels:\n",
    "        count = count + 1\n",
    "print(count)"
   ]
  },
  {
   "cell_type": "code",
   "execution_count": null,
   "id": "988b5e95-fddf-4a1a-ac5e-694750f7cc68",
   "metadata": {},
   "outputs": [],
   "source": [
    "6.Count the number of consonants in a string."
   ]
  },
  {
   "cell_type": "code",
   "execution_count": null,
   "id": "b32c4e37-7b91-47f2-b932-fe8ea7a34078",
   "metadata": {},
   "outputs": [],
   "source": [
    "result = \"aeiouAEIOU\"\n",
    "str = input(\"enter the string\")\n",
    "count = 0\n",
    "for char in str:\n",
    "    if char  is not result:\n",
    "        count = count + 1\n",
    "print(\"consonant in a string is :\",count)"
   ]
  },
  {
   "cell_type": "code",
   "execution_count": null,
   "id": "486c96b6-f477-4e94-93b1-09307f30d9ff",
   "metadata": {},
   "outputs": [],
   "source": [
    "7.Remove all whitespaces from a string."
   ]
  },
  {
   "cell_type": "code",
   "execution_count": null,
   "id": "ad17de34-5ece-42f8-8d26-d76c620202ba",
   "metadata": {},
   "outputs": [],
   "source": [
    "str = input(\"enter the string\")\n",
    "result = str.replace(\" \", \"\")\n",
    "print(result)"
   ]
  },
  {
   "cell_type": "code",
   "execution_count": null,
   "id": "672f612c-0bcb-40ef-a243-44f67de997ec",
   "metadata": {},
   "outputs": [],
   "source": [
    "8. Find the length of a string without using the `len()` function."
   ]
  },
  {
   "cell_type": "code",
   "execution_count": 9,
   "id": "deed3f1b-717e-4472-b4e7-1b8b886f3c65",
   "metadata": {},
   "outputs": [
    {
     "name": "stdin",
     "output_type": "stream",
     "text": [
      "enter the string vineet\n"
     ]
    },
    {
     "name": "stdout",
     "output_type": "stream",
     "text": [
      "6\n"
     ]
    }
   ],
   "source": [
    "str = input(\"enter the string\")\n",
    "count = 0\n",
    "for i in str:\n",
    "    count = count + 1\n",
    "print(count)"
   ]
  },
  {
   "cell_type": "code",
   "execution_count": null,
   "id": "dbf7a48c-7684-4e16-8403-f4c672d773a0",
   "metadata": {},
   "outputs": [],
   "source": [
    "9. Check if a string contains a specific word."
   ]
  },
  {
   "cell_type": "code",
   "execution_count": null,
   "id": "96749af5-8632-4c28-9504-d1761ff8661d",
   "metadata": {},
   "outputs": [],
   "source": [
    "result = \" i am a pw student\"\n",
    "find = \"pw\"\n",
    "if find in result:\n",
    "    print(\"present\")\n",
    "else:\n",
    "    print(\"not present\")"
   ]
  },
  {
   "cell_type": "code",
   "execution_count": null,
   "id": "a30e60c3-1b22-4a06-a1c9-ddcbb70e35a4",
   "metadata": {},
   "outputs": [],
   "source": [
    "10. Replace a word in a string with another word."
   ]
  },
  {
   "cell_type": "code",
   "execution_count": null,
   "id": "b53152a4-41d3-4319-bdbd-fda025d9268f",
   "metadata": {},
   "outputs": [],
   "source": [
    "str = \"I am a pw student\"\n",
    "result = str.replace(\"am\", \"AM\")\n",
    "print(result)"
   ]
  },
  {
   "cell_type": "code",
   "execution_count": null,
   "id": "0baed40e-2b60-417b-9ca2-8008dd3cf505",
   "metadata": {},
   "outputs": [],
   "source": [
    "11. Count the occurrences of a word in a string."
   ]
  },
  {
   "cell_type": "code",
   "execution_count": null,
   "id": "389d5992-e4ae-45a3-b903-20c5721c8e54",
   "metadata": {},
   "outputs": [],
   "source": [
    "str = \"vineet is a good student,vineet should focus on study\"\n",
    "find  = \"vineet\"\n",
    "count  = str.count(find)\n",
    "print(count)"
   ]
  },
  {
   "cell_type": "code",
   "execution_count": null,
   "id": "8d0bd1b8-6bd7-44db-a35e-40e46e04d151",
   "metadata": {},
   "outputs": [],
   "source": [
    "12. Find the first occurrence of a word in a string."
   ]
  },
  {
   "cell_type": "code",
   "execution_count": 8,
   "id": "7472e50f-5f06-4fc2-90d7-00b862d7506a",
   "metadata": {},
   "outputs": [
    {
     "name": "stdout",
     "output_type": "stream",
     "text": [
      "The word 'AMER' is not present in the text.\n"
     ]
    }
   ],
   "source": [
    "str = \"This is a sample text. This text contains a sample word.\"\n",
    "word = \"AMER\"\n",
    "\n",
    "index = str.find(word)\n",
    "\n",
    "if index != -1:\n",
    "    print(f\"The word '{word}' first occurs at index {index}.\")\n",
    "else:\n",
    "    print(f\"The word '{word}' is not present in the text.\")\n"
   ]
  },
  {
   "cell_type": "code",
   "execution_count": null,
   "id": "4fa4b413-55d7-4360-ba9d-896bfc27a727",
   "metadata": {},
   "outputs": [],
   "source": [
    "13. Find the last occurrence of a word in a string."
   ]
  },
  {
   "cell_type": "code",
   "execution_count": null,
   "id": "c8d32494-d796-4b67-b23c-2e4ea22320cd",
   "metadata": {},
   "outputs": [],
   "source": [
    "str = \"This is a sample text. This text contains a sample word.\"\n",
    "word = \"sample\"\n",
    "\n",
    "index = str.rfind(word)\n",
    "\n",
    "if index != -1:\n",
    "    print(f\"The word '{word}' first occurs at index {index}.\")\n",
    "else:\n",
    "    print(f\"The word '{word}' is not present in the text.\")"
   ]
  },
  {
   "cell_type": "code",
   "execution_count": null,
   "id": "3e1d03f3-d2a7-4f54-ab82-c6f58111daae",
   "metadata": {},
   "outputs": [],
   "source": [
    "14. Split a string into a list of words."
   ]
  },
  {
   "cell_type": "code",
   "execution_count": 10,
   "id": "b3d30e26-62f2-4ea1-886a-553eb8f33bc6",
   "metadata": {},
   "outputs": [
    {
     "name": "stdout",
     "output_type": "stream",
     "text": [
      "['Welcome', 'to', 'pw', 'skills']\n"
     ]
    }
   ],
   "source": [
    "str  =  \"Welcome to pw skills\"\n",
    "result  =  str.split()\n",
    "print(result)"
   ]
  },
  {
   "cell_type": "code",
   "execution_count": null,
   "id": "56be9719-7c44-4a35-9817-9bcb3f489aed",
   "metadata": {},
   "outputs": [],
   "source": [
    "15. Join a list of words into a string."
   ]
  },
  {
   "cell_type": "code",
   "execution_count": null,
   "id": "4b49f4ef-f8b6-4cea-9aca-29effc430c94",
   "metadata": {},
   "outputs": [],
   "source": [
    "list1 = ['I','am','a','student','of','pw skills']\n",
    "str = \" \"\n",
    "result  = str.join(list1)\n",
    "print(result)"
   ]
  },
  {
   "cell_type": "code",
   "execution_count": null,
   "id": "9850b7eb-b065-4b8e-befc-230b51046f90",
   "metadata": {},
   "outputs": [],
   "source": [
    "16. Convert a string where words are separated by spaces to one where words\n",
    "are separated by underscores."
   ]
  },
  {
   "cell_type": "code",
   "execution_count": null,
   "id": "6e63115f-90e3-49d6-bfc8-035add738e8c",
   "metadata": {},
   "outputs": [],
   "source": [
    "str = \"i am vineet kumar\"\n",
    "result = str.replace(\" \",\"_\")\n",
    "print(result)"
   ]
  },
  {
   "cell_type": "code",
   "execution_count": null,
   "id": "ea265f7a-4af6-4bb7-87cf-a5ff69f465e0",
   "metadata": {},
   "outputs": [],
   "source": [
    "17. Check if a string starts with a specific word or phrase."
   ]
  },
  {
   "cell_type": "code",
   "execution_count": null,
   "id": "3fb141c4-a145-4ffc-8e2c-76cd6e3d8b98",
   "metadata": {},
   "outputs": [],
   "source": [
    "sentence = \"hello, i am vineet\"\n",
    "valid = \"hello\"\n",
    "if sentence.startswith(valid):\n",
    "    print(\"string is starts with a specific word\")\n",
    "else:\n",
    "      print(\"string is not starts with a specific word\")"
   ]
  },
  {
   "cell_type": "code",
   "execution_count": null,
   "id": "24614508-bbb2-4ebd-92cb-0c55bad8e223",
   "metadata": {},
   "outputs": [],
   "source": [
    "18. Check if a string ends with a specific word or phrase."
   ]
  },
  {
   "cell_type": "code",
   "execution_count": null,
   "id": "4941b518-6eb7-4fc6-8782-988e8fd58bb4",
   "metadata": {},
   "outputs": [],
   "source": [
    "sentence = \"hello, i am vineet\"\n",
    "valid = \"vi\"\n",
    "if sentence.endswith(valid):\n",
    "    print(\"string is end with a specific word\")\n",
    "else:\n",
    "      print(\"string is not end with a specific word\")"
   ]
  },
  {
   "cell_type": "code",
   "execution_count": null,
   "id": "5fbcd90b-840a-4ee3-8525-949ba17c7850",
   "metadata": {},
   "outputs": [],
   "source": [
    "19. Convert a string to title case (e.g., \"hello world\" to \"Hello World\")."
   ]
  },
  {
   "cell_type": "code",
   "execution_count": null,
   "id": "b004ed55-ef8a-44df-afd5-5f5c80b37429",
   "metadata": {},
   "outputs": [],
   "source": [
    "str = \"hello world\"\n",
    "result = str.title()\n",
    "print(result)"
   ]
  },
  {
   "cell_type": "code",
   "execution_count": null,
   "id": "ebb93093-40fb-44cf-a678-b1bd6fb1a153",
   "metadata": {},
   "outputs": [],
   "source": [
    "20. Find the longest word in a string."
   ]
  },
  {
   "cell_type": "code",
   "execution_count": null,
   "id": "8da511ac-5567-4bfb-a015-f004b6500352",
   "metadata": {},
   "outputs": [],
   "source": [
    "str = \" i am vineet kumar tripathi\"\n",
    "words  = str.split()\n",
    "longest =\" \"\n",
    "for word in words:\n",
    "    if len(word)>len(longest):\n",
    "        longest  =  word\n",
    "        \n",
    "print(\"longest string is:\",longest)"
   ]
  },
  {
   "cell_type": "code",
   "execution_count": null,
   "id": "46126e52-0da4-4e69-9c2b-b233e31447d3",
   "metadata": {},
   "outputs": [],
   "source": [
    "21. Find the shortest word in a string."
   ]
  },
  {
   "cell_type": "code",
   "execution_count": null,
   "id": "3f2e6534-14b4-4421-ad74-3f5f962a7dbf",
   "metadata": {},
   "outputs": [],
   "source": [
    "str = \"english is a funny language\"\n",
    "words  = str.split()\n",
    "smallest = words[0]\n",
    "for word in words:\n",
    "    if len(word)<len(smallest):\n",
    "        smallest  =  word\n",
    "        \n",
    "print(\"smallest string is:\",smallest)"
   ]
  },
  {
   "cell_type": "code",
   "execution_count": null,
   "id": "b0dcf4c5-08a2-49b2-836e-af7f664f4bfa",
   "metadata": {},
   "outputs": [],
   "source": [
    "22. Reverse the order of words in a string."
   ]
  },
  {
   "cell_type": "code",
   "execution_count": null,
   "id": "30194f68-c808-421f-a159-5da23804cf68",
   "metadata": {},
   "outputs": [],
   "source": [
    "str = \"i am not going to college today\"\n",
    "words = str.split()\n",
    "reversed_words = reversed(words)\n",
    "newstring = ' '.join(reversed_words)\n",
    "print(newstring)\n",
    "\n"
   ]
  },
  {
   "cell_type": "code",
   "execution_count": null,
   "id": "52fb5b05-85a3-4ace-b464-176127888900",
   "metadata": {},
   "outputs": [],
   "source": [
    "23. Check if a string is alphanumeric."
   ]
  },
  {
   "cell_type": "code",
   "execution_count": null,
   "id": "7f8c1b5b-f75f-40aa-972a-279d7a066ac9",
   "metadata": {},
   "outputs": [],
   "source": [
    "str = \"hello123\"\n",
    "print(str.isalnum())"
   ]
  },
  {
   "cell_type": "code",
   "execution_count": null,
   "id": "d2354051-fb55-41ab-aab2-bc88f751884d",
   "metadata": {},
   "outputs": [],
   "source": [
    "24. Extract all digits from a string."
   ]
  },
  {
   "cell_type": "code",
   "execution_count": null,
   "id": "f774ebe7-86cd-4e84-8fdc-d4e5f642f9a0",
   "metadata": {},
   "outputs": [],
   "source": [
    "input_string = \"pwskills1234556788888899\"\n",
    "digit = ' '\n",
    "for char in input_string:\n",
    "    if char.isdigit():\n",
    "        digit = digit + char\n",
    "print(digit)"
   ]
  },
  {
   "cell_type": "code",
   "execution_count": null,
   "id": "11d9c6ab-bba1-4ed3-9a88-bc7c563c0a57",
   "metadata": {},
   "outputs": [],
   "source": [
    "25. Extract all alphabets from a string."
   ]
  },
  {
   "cell_type": "code",
   "execution_count": null,
   "id": "08536613-6252-4d85-a2bd-47d4d2d3ac09",
   "metadata": {},
   "outputs": [],
   "source": [
    "input_string = \"pwskills1234556788888899\"\n",
    "alpha = ' '\n",
    "for char in input_string:\n",
    "    if char.isalpha():\n",
    "        alpha = alpha + char\n",
    "print(alpha)"
   ]
  },
  {
   "cell_type": "code",
   "execution_count": null,
   "id": "2c9b0e71-d75c-439d-a1ae-6e705abcbe35",
   "metadata": {},
   "outputs": [],
   "source": [
    "26. Count the number of uppercase letters in a string."
   ]
  },
  {
   "cell_type": "code",
   "execution_count": null,
   "id": "89393545-cc24-44ed-a8c6-cfed07c3072c",
   "metadata": {},
   "outputs": [],
   "source": [
    "input_string = \"I am  FrOm LucKnOW\"\n",
    "count = 0;\n",
    "for char in input_string:\n",
    "    if char.isupper():\n",
    "        count = count + 1;\n",
    "print(count)"
   ]
  },
  {
   "cell_type": "code",
   "execution_count": null,
   "id": "3c9d495d-fe22-4f96-ab16-1bb6d7029813",
   "metadata": {},
   "outputs": [],
   "source": [
    "27 Count the number of Lowercase letters in a string."
   ]
  },
  {
   "cell_type": "code",
   "execution_count": null,
   "id": "6cb278cd-833e-4da4-87f5-111c10ca2820",
   "metadata": {},
   "outputs": [],
   "source": [
    "input_string = \"I am  FrOm LucKnOW\"\n",
    "count = 0\n",
    "for char in input_string:\n",
    "    if char.islower():\n",
    "        count  = count + 1\n",
    "print(count)"
   ]
  },
  {
   "cell_type": "code",
   "execution_count": null,
   "id": "aea3e489-48d8-4cf3-9eba-9439f21795d4",
   "metadata": {},
   "outputs": [],
   "source": [
    "28. Swap the case of each character in a string."
   ]
  },
  {
   "cell_type": "code",
   "execution_count": null,
   "id": "99ecc1a3-75a5-4b66-b578-5ddaf26b0294",
   "metadata": {},
   "outputs": [],
   "source": [
    "input_string = \"vinEEt123\"\n",
    "swap = ''\n",
    "\n",
    "for char in input_string:\n",
    "    if char.isupper():\n",
    "        swap = swap + char.lower()\n",
    "    elif char.islower():\n",
    "        swap = swap + char.upper()\n",
    "    elif char.isdigit():\n",
    "        swap = swap + char\n",
    "\n",
    "print(swap)\n"
   ]
  },
  {
   "cell_type": "code",
   "execution_count": 6,
   "id": "e7001edc-9038-4ae9-8221-0e9ffd46ee63",
   "metadata": {},
   "outputs": [],
   "source": [
    "#29. Remove a specific word from a string."
   ]
  },
  {
   "cell_type": "code",
   "execution_count": null,
   "id": "27146383-dd06-458b-b415-bf992b04d6e2",
   "metadata": {
    "tags": []
   },
   "outputs": [],
   "source": [
    "str = \"i am vineet kumar\"\n",
    "word_to_remove = \"kumar\"\n",
    "result = str.split()\n",
    "\n",
    "newstring = ' '\n",
    "for word in result:\n",
    "    if word != word_to_remove:\n",
    "        newstring += word + ' '\n",
    "\n",
    "print(newstring)\n",
    "\n",
    "\n"
   ]
  },
  {
   "cell_type": "code",
   "execution_count": null,
   "id": "62fd91cb-94f6-4b92-beb0-0c5619bb6003",
   "metadata": {
    "tags": []
   },
   "outputs": [],
   "source": [
    "#another method\n",
    "input_string = \"Hello, this is a sample string. hello again.\"\n",
    "\n",
    "word_to_remove = \"hello\"\n",
    "modified_string = input_string.replace(word_to_remove, '')\n",
    "\n",
    "print(modified_string)\n"
   ]
  },
  {
   "cell_type": "code",
   "execution_count": null,
   "id": "b5044dbe-0308-4d80-a32c-bd060a4e70bc",
   "metadata": {
    "tags": []
   },
   "outputs": [],
   "source": [
    "30. Check if a string is a valid email address."
   ]
  },
  {
   "cell_type": "code",
   "execution_count": null,
   "id": "dd4f52a5-9faa-40e2-bd32-f384ba3081ec",
   "metadata": {},
   "outputs": [],
   "source": [
    "import re\n",
    "\n",
    "email = \"user@example.com\"\n",
    "\n",
    "pattern = r'^[\\w\\.-]+@[\\w\\.-]+\\.\\w+$'\n",
    "if re.match(pattern, email):\n",
    "    print(\"Valid email address\")\n",
    "else:\n",
    "    print(\"Invalid email address\")\n"
   ]
  },
  {
   "cell_type": "code",
   "execution_count": null,
   "id": "ce809315-14ab-4665-bfb5-e0c3731783f0",
   "metadata": {},
   "outputs": [],
   "source": [
    "31. Extract the username from an email address string."
   ]
  },
  {
   "cell_type": "code",
   "execution_count": null,
   "id": "9ce4a127-d7c6-4f08-bad7-814c208bbe99",
   "metadata": {},
   "outputs": [],
   "source": [
    "email = \"user@example.com\"\n",
    "new = ' '\n",
    "for char in email:\n",
    "    if(char == '@'):\n",
    "        break\n",
    "    elif(char != '@'):\n",
    "        new = new + char\n",
    "print(new)\n",
    "    "
   ]
  },
  {
   "cell_type": "code",
   "execution_count": null,
   "id": "4dac8848-629a-4202-89dc-f8c6c8c684f6",
   "metadata": {},
   "outputs": [],
   "source": [
    "32. Extract the domain name from an email address string."
   ]
  },
  {
   "cell_type": "code",
   "execution_count": null,
   "id": "09393fe5-2f3e-446e-b5c0-2b2b748f41b1",
   "metadata": {},
   "outputs": [],
   "source": [
    "email = \"user@example.com\"\n",
    "\n",
    "\n",
    "domain = email.split('@')[1]\n",
    "\n",
    "print(\"Domain:\", domain)\n",
    "\n"
   ]
  },
  {
   "cell_type": "code",
   "execution_count": null,
   "id": "671fd609-62c3-4d9d-a527-c3c690364671",
   "metadata": {},
   "outputs": [],
   "source": [
    "33. Replace multiple spaces in a string with a single space."
   ]
  },
  {
   "cell_type": "code",
   "execution_count": null,
   "id": "d1407dee-b85b-468c-8ffa-7cee34d57593",
   "metadata": {},
   "outputs": [],
   "source": [
    "import re\n",
    "\n",
    "str_input = input(\"Enter the string: \")\n",
    "result = re.sub(r'\\s+', ' ', str_input)\n",
    "\n",
    "print(result)\n"
   ]
  },
  {
   "cell_type": "code",
   "execution_count": null,
   "id": "1782df68-d587-4eb0-b7fe-e868d5e0e9cb",
   "metadata": {},
   "outputs": [],
   "source": [
    "34.Check if a string is a valid URL."
   ]
  },
  {
   "cell_type": "code",
   "execution_count": null,
   "id": "44ed7915-f421-4c91-a2dd-6e31121da3dc",
   "metadata": {},
   "outputs": [],
   "source": [
    "\n",
    "from urllib.parse import urlparse\n",
    "\n",
    "def is_valid_url(url):\n",
    "    try:\n",
    "        result = urlparse(url)\n",
    "        return all([result.scheme, result.netloc])\n",
    "    except ValueError:\n",
    "        return False\n",
    "\n",
    "url1 = \"https://www.example.com\"\n",
    "url2 = \"invalid_url\"\n",
    "\n",
    "print(is_valid_url(url1))  # Output: True\n",
    "print(is_valid_url(url2))  # Output: False\n",
    "\n"
   ]
  },
  {
   "cell_type": "code",
   "execution_count": null,
   "id": "c22cf1f2-c2a4-4306-9a2a-5d719b7305b6",
   "metadata": {},
   "outputs": [],
   "source": [
    "35. Extract the protocol (http or https) from a URL string."
   ]
  },
  {
   "cell_type": "code",
   "execution_count": null,
   "id": "85ecfe0b-31d9-43b2-9b1f-57ecd3b4990c",
   "metadata": {},
   "outputs": [],
   "source": [
    "from urllib.parse import urlparse\n",
    "\n",
    "url = \"https://www.example.com\"\n",
    "\n",
    "parsed_url = urlparse(url)\n",
    "protocol = parsed_url.scheme\n",
    "\n",
    "print(\"Protocol:\", protocol)\n"
   ]
  },
  {
   "cell_type": "code",
   "execution_count": null,
   "id": "ca72a4fd-8ae1-44bf-96b0-155ec9d5b3c0",
   "metadata": {},
   "outputs": [],
   "source": [
    "36. Find the frequency of each character in a string."
   ]
  },
  {
   "cell_type": "code",
   "execution_count": null,
   "id": "51fae7e4-9012-487a-89ed-9fcdcbd15156",
   "metadata": {},
   "outputs": [],
   "source": [
    "str =\"pw skills best\"\n",
    "frequency = {}\n",
    "for char in str:\n",
    "    if char in frequency:\n",
    "        frequency[char] += 1\n",
    "    else:\n",
    "        frequency[char] = 1\n",
    "print(frequency)"
   ]
  },
  {
   "cell_type": "code",
   "execution_count": null,
   "id": "33c50809-5ef6-4a92-9173-9aeca8768bfa",
   "metadata": {},
   "outputs": [],
   "source": [
    "37. Remove all punctuation from a string."
   ]
  },
  {
   "cell_type": "code",
   "execution_count": null,
   "id": "423dfa4d-ab53-4e9c-8165-615f0faa9396",
   "metadata": {},
   "outputs": [],
   "source": [
    "punctuation = \"!#$%&'()*+,-./:;<=>?@[\\]^_`{|}~\"\n",
    "str = \"vineet!* +kumar:<\"\n",
    "result = ' '\n",
    "for char in str:\n",
    "    if(char in punctuation):\n",
    "        continue\n",
    "    else:\n",
    "        result = result +  char\n",
    "print(result)\n",
    "    "
   ]
  },
  {
   "cell_type": "code",
   "execution_count": null,
   "id": "c474fc46-4de2-4e1d-9058-4fbd4b2ef7cf",
   "metadata": {},
   "outputs": [],
   "source": [
    "38. Check if a string contains only digits."
   ]
  },
  {
   "cell_type": "code",
   "execution_count": null,
   "id": "eab3a767-ab47-41a0-a395-cbf0937e817a",
   "metadata": {},
   "outputs": [],
   "source": [
    "digit = \"123456A\"\n",
    "\n",
    "for char in digit:\n",
    "    if char.isalpha():\n",
    "        print(\"not all digits\")\n",
    "        break\n",
    "else:\n",
    "    print(\"all digits\")\n"
   ]
  },
  {
   "cell_type": "code",
   "execution_count": null,
   "id": "030bf957-8bbd-47bd-aeb0-cb2cc2d55b06",
   "metadata": {},
   "outputs": [],
   "source": [
    "39. Check if a string contains only alphabets."
   ]
  },
  {
   "cell_type": "code",
   "execution_count": null,
   "id": "e1911f93-3cb1-4841-9943-c4342687da6b",
   "metadata": {},
   "outputs": [],
   "source": [
    "str = \"akkask\"\n",
    "\n",
    "for char in str:\n",
    "    if char.isdigit():\n",
    "        print(\"not all alphabet\")\n",
    "        break\n",
    "else:\n",
    "    print(\"all alphabet\")"
   ]
  },
  {
   "cell_type": "code",
   "execution_count": null,
   "id": "ea3c2caf-388a-4a00-8193-79b91ecaeda1",
   "metadata": {},
   "outputs": [],
   "source": [
    "40. Convert a string to a list of characters."
   ]
  },
  {
   "cell_type": "code",
   "execution_count": null,
   "id": "a42fb262-a872-4d04-83f5-fb9160f96f22",
   "metadata": {},
   "outputs": [],
   "source": [
    "str = input(\"enter the string\")\n",
    "char_list = list(str)\n",
    "print(char_list)\n"
   ]
  },
  {
   "cell_type": "code",
   "execution_count": null,
   "id": "c8f563ba-dca5-48c6-9f48-0defcc8cc2c3",
   "metadata": {},
   "outputs": [],
   "source": [
    "41. Check if two strings are anagrams."
   ]
  },
  {
   "cell_type": "code",
   "execution_count": null,
   "id": "aa17e7cf-4d31-4af0-b25e-f69d6c140f6d",
   "metadata": {},
   "outputs": [],
   "source": [
    "str1 = input(\"enter the string\")\n",
    "str2 = input(\"enter the string\")\n",
    "if sorted(str1) == sorted(str2):\n",
    "    print(\"anagram\")\n",
    "else:\n",
    "    print(\"not anagram\")"
   ]
  },
  {
   "cell_type": "code",
   "execution_count": null,
   "id": "4450b5a5-5298-4b37-81b7-6bb30b6b92ce",
   "metadata": {},
   "outputs": [],
   "source": [
    "42. Encode a string using a Caesar cipher."
   ]
  },
  {
   "cell_type": "code",
   "execution_count": null,
   "id": "23d2314e-8ba3-44b8-b54b-301fb0ae1733",
   "metadata": {},
   "outputs": [],
   "source": [
    "plaintext = input(\"enter the string\")\n",
    "shift = int(input(\"enter the number\"))\n",
    "encrypted_text = \"\"\n",
    "\n",
    "for char in plaintext:\n",
    "    if char.isalpha():\n",
    "        if char.islower():\n",
    "            shifted_char = chr((ord(char) - ord('a') + shift) % 26 + ord('a'))\n",
    "        else:\n",
    "            shifted_char = chr((ord(char) - ord('A') + shift) % 26 + ord('A'))\n",
    "        encrypted_text += shifted_char\n",
    "    else:\n",
    "        encrypted_text += char\n",
    "\n",
    "print(\"Encrypted:\", encrypted_text)\n",
    "\n",
    "\n",
    "\n",
    "\n"
   ]
  },
  {
   "cell_type": "code",
   "execution_count": null,
   "id": "65a42563-ff90-4db0-98d6-5eb0b1682df2",
   "metadata": {},
   "outputs": [],
   "source": [
    "43. Decode a Caesar cipher encoded string."
   ]
  },
  {
   "cell_type": "code",
   "execution_count": null,
   "id": "5742c3fc-6123-47ff-b067-1ec8d480386d",
   "metadata": {},
   "outputs": [],
   "source": [
    "plaintext = input(\"enter the string\")\n",
    "shift = int(input(\"enter the number\"))\n",
    "encrypted_text = \"\"\n",
    "\n",
    "for char in plaintext:\n",
    "    if char.isalpha():\n",
    "        if char.islower():\n",
    "            shifted_char = chr((ord(char) - ord('a') - shift) % 26 + ord('a'))\n",
    "        else:\n",
    "            shifted_char = chr((ord(char) - ord('A') - shift) % 26 + ord('A'))\n",
    "        encrypted_text += shifted_char\n",
    "    else:\n",
    "        encrypted_text += char\n",
    "\n",
    "print(\"Encrypted:\", encrypted_text)\n"
   ]
  },
  {
   "cell_type": "code",
   "execution_count": null,
   "id": "488dc0ba-c0c9-4a38-83be-904eef6760a4",
   "metadata": {},
   "outputs": [],
   "source": [
    "44. Find the most frequent word in a string."
   ]
  },
  {
   "cell_type": "code",
   "execution_count": null,
   "id": "d0638eed-c220-4841-b49e-f2a2f15d8e47",
   "metadata": {},
   "outputs": [],
   "source": [
    "\n",
    "arr = [ \"vineet\", \"is\", \"a\", \"good\", \"student\", \"vineet\", \"are \", \"you\", \"ok\", \"vineet\", \"is\", \"meet\", \"vineet\"]\n",
    "n = len(arr)\n",
    "\n",
    "\n",
    "freq = 0\n",
    "\n",
    "res = \"\"\n",
    "\n",
    "\n",
    "for i in range(0, n, 1):\n",
    "    count = 0\n",
    "    for j in range(i + 1, n, 1):\n",
    "        if arr[j] == arr[i]:\n",
    "            count += 1\n",
    "\n",
    "    \n",
    "    if count >= freq:\n",
    "        res = arr[i]\n",
    "        freq = count\n",
    "\n",
    "print(\"The word that occurs most is:\", res)\n",
    "print(\"No of times:\", freq)\n",
    "\n"
   ]
  },
  {
   "cell_type": "code",
   "execution_count": null,
   "id": "1f4c876d-4cc1-4458-b454-cce1a36d8afc",
   "metadata": {},
   "outputs": [],
   "source": [
    "45. Find all unique words in a string."
   ]
  },
  {
   "cell_type": "code",
   "execution_count": null,
   "id": "9bedfbb6-2104-49af-9539-09ba1a815b4c",
   "metadata": {},
   "outputs": [],
   "source": [
    "input_text = \"This is a sample text. This text contains some sample words.\"\n",
    "words = input_text.split()  # Split the text into words\n",
    "unique_words = []\n",
    "\n",
    "for word in words:\n",
    "    cleaned_word = \"\"\n",
    "    for char in word:\n",
    "        if char.isalpha() or char.isdigit():\n",
    "            \n",
    "            \n",
    "            cleaned_word += char\n",
    "    cleaned_word = cleaned_word.lower()  # Convert to lowercase\n",
    "    if cleaned_word and cleaned_word not in unique_words:\n",
    "        unique_words.append(cleaned_word)\n",
    "\n",
    "print(\"Unique words:\", unique_words)\n"
   ]
  },
  {
   "cell_type": "code",
   "execution_count": null,
   "id": "6e20d063-80ea-4940-98c6-08e4e4681eff",
   "metadata": {},
   "outputs": [],
   "source": [
    "46. Count the number of syllables in a string."
   ]
  },
  {
   "cell_type": "code",
   "execution_count": null,
   "id": "a58dc01b-05b4-49ca-9c78-6754354695a9",
   "metadata": {},
   "outputs": [],
   "source": [
    "def count_syllables_no_def(word):\n",
    "  vowels = \"aeiouAEIOU\"\n",
    "  num_vowels = 0\n",
    "\n",
    "  for char in word:\n",
    "    if char.isalpha() and char in vowels:\n",
    "      num_vowels += 1\n",
    "\n",
    "  if word[-1] in vowels:\n",
    "    num_vowels -= 1\n",
    "\n",
    "  return num_vowels\n",
    "\n",
    "word = \"hello how are you\"\n",
    "num_syllables = count_syllables_no_def(word)\n",
    "print(num_syllables)\n",
    "\n"
   ]
  },
  {
   "cell_type": "code",
   "execution_count": null,
   "id": "b625567d-84ae-4b10-8acc-7db4dd8e2117",
   "metadata": {},
   "outputs": [],
   "source": [
    "47. Check if a string contains any special characters."
   ]
  },
  {
   "cell_type": "code",
   "execution_count": null,
   "id": "b83b4ebb-5d50-433a-9453-f00fe62d426c",
   "metadata": {},
   "outputs": [],
   "source": [
    "input_str = \"vineet@\"\n",
    "special_characters = \"!@#$%^&*()\"\n",
    "\n",
    "contains_special = False\n",
    "\n",
    "for char in input_str:\n",
    "    if char in special_characters:\n",
    "        contains_special = True\n",
    "        break\n",
    "\n",
    "if contains_special:\n",
    "    print(\"String contains special characters.\")\n",
    "else:\n",
    "    print(\"String does not contain special characters.\")\n",
    "\n"
   ]
  },
  {
   "cell_type": "code",
   "execution_count": null,
   "id": "94db6872-f610-44a2-8137-44faf56dc503",
   "metadata": {},
   "outputs": [],
   "source": [
    "48. Remove the nth word from a string."
   ]
  },
  {
   "cell_type": "code",
   "execution_count": null,
   "id": "73cb04bb-4642-481e-903c-a89c1afac1e6",
   "metadata": {
    "tags": []
   },
   "outputs": [],
   "source": [
    "input_str = \"This is a sample string to demonstrate.\"\n",
    "n = 3  # Replace with the nth word you want to remove\n",
    "\n",
    "words = input_str.split()\n",
    "if n >= 1 and n <= len(words):\n",
    "    del words[n - 1]\n",
    "    result = ' '.join(words)\n",
    "    print(result)\n",
    "else:\n",
    "    print(\"Invalid value of n\")\n"
   ]
  },
  {
   "cell_type": "code",
   "execution_count": null,
   "id": "5c34a36e-b889-42e6-9189-d3c8bbf7f146",
   "metadata": {},
   "outputs": [],
   "source": [
    "49. Insert a word at the nth position in a string."
   ]
  },
  {
   "cell_type": "code",
   "execution_count": null,
   "id": "bb57138f-c1cf-482e-a035-83fb742d947c",
   "metadata": {},
   "outputs": [],
   "source": [
    "input_str = \"This is a sample string to demonstrate.\"\n",
    "word_to_insert = \"new\"\n",
    "n = 3  # Replace with the nth position you want to insert at\n",
    "\n",
    "words = input_str.split()\n",
    "if n >= 1 and n <= len(words) + 1:\n",
    "    words.insert(n - 1, word_to_insert)\n",
    "    result = ' '.join(words)\n",
    "    print(result)\n",
    "else:\n",
    "    print(\"Invalid value of n\")\n"
   ]
  },
  {
   "cell_type": "code",
   "execution_count": null,
   "id": "820c0e6b-aef4-4077-ae3b-50496638539a",
   "metadata": {},
   "outputs": [],
   "source": [
    "50. Convert a CSV string to a list of lists."
   ]
  },
  {
   "cell_type": "code",
   "execution_count": null,
   "id": "deb3667a-85d3-4bf4-a5cf-dec43321aac7",
   "metadata": {},
   "outputs": [],
   "source": [
    "import csv\n",
    "from io import StringIO\n",
    "\n",
    "csv_string = \"1,John,Doe\\n2,Jane,Smith\\n3,Michael,Johnson\"\n",
    "\n",
    "csv_file = StringIO(csv_string)  # Create a file-like object from the CSV string\n",
    "\n",
    "csv_list = []\n",
    "csv_reader = csv.reader(csv_file)\n",
    "for row in csv_reader:\n",
    "    csv_list.append(row)\n",
    "\n",
    "print(csv_list)\n"
   ]
  },
  {
   "cell_type": "code",
   "execution_count": null,
   "id": "3eeb5ac4-dd16-4dc4-af04-1b8cbcf907a2",
   "metadata": {},
   "outputs": [],
   "source": [
    "TOPIC :- List Based Practice Problem \n",
    "\n",
    "\n",
    "\n"
   ]
  },
  {
   "cell_type": "code",
   "execution_count": null,
   "id": "c6535d01-b508-4917-982f-acbbf5b67618",
   "metadata": {},
   "outputs": [],
   "source": [
    "1. Create a list with integers from 1 to 10."
   ]
  },
  {
   "cell_type": "code",
   "execution_count": null,
   "id": "af685d7c-410c-4a29-9163-fd8b49a6180f",
   "metadata": {},
   "outputs": [],
   "source": [
    "list = [1,2,3,4,5,6,7,8,9,10]\n",
    "print(list)"
   ]
  },
  {
   "cell_type": "code",
   "execution_count": null,
   "id": "ea6f901c-2226-4112-9a34-8dea72ee0f15",
   "metadata": {},
   "outputs": [],
   "source": [
    "2. Find the length of a list without using the `len()` function."
   ]
  },
  {
   "cell_type": "code",
   "execution_count": null,
   "id": "d04dbdc2-530e-492a-9e76-90ac84b94bd6",
   "metadata": {},
   "outputs": [],
   "source": [
    "list1 = [1,2,3,4,5,6,7,8,9,10]\n",
    "length = 0\n",
    "for i in list1:\n",
    "    length = length + 1\n",
    "print(length)"
   ]
  },
  {
   "cell_type": "code",
   "execution_count": null,
   "id": "abfbbe84-1f39-47c3-a9da-f398eceb2376",
   "metadata": {},
   "outputs": [],
   "source": [
    "3. Append an element to the end of a list."
   ]
  },
  {
   "cell_type": "code",
   "execution_count": null,
   "id": "d5bbf31e-027d-4ee6-84b8-57da79c956dd",
   "metadata": {},
   "outputs": [],
   "source": [
    "list1 = [1,2,4,5]\n",
    "list1.append(7)\n",
    "print(list1)"
   ]
  },
  {
   "cell_type": "code",
   "execution_count": null,
   "id": "4057540d-b4ed-4b62-848d-491d829aa938",
   "metadata": {},
   "outputs": [],
   "source": [
    "4. Insert an element at a specific index in a list."
   ]
  },
  {
   "cell_type": "code",
   "execution_count": null,
   "id": "565cb3ed-ab60-4bea-becd-9d1680f25c82",
   "metadata": {},
   "outputs": [],
   "source": [
    "list1 = [1,3,4,5,6,8,8,8,9]\n",
    "new_element  =  10\n",
    "index = 2\n",
    "list1.insert(index,new_element)\n",
    "print(\"update list is:\",list1)"
   ]
  },
  {
   "cell_type": "code",
   "execution_count": null,
   "id": "de525abb-d04f-4631-96fb-e2d2782bad90",
   "metadata": {},
   "outputs": [],
   "source": [
    "5. Remove an element from a list by its value."
   ]
  },
  {
   "cell_type": "code",
   "execution_count": null,
   "id": "f436aac2-13cb-46fe-abe8-c56653cc4a25",
   "metadata": {},
   "outputs": [],
   "source": [
    "list1 = [1,2,3,5,6]\n",
    "element = 3\n",
    "list1.remove(element)\n",
    "print(\"update list is\",list1)"
   ]
  },
  {
   "cell_type": "code",
   "execution_count": null,
   "id": "4d8d611e-9d7f-4258-a371-ea5accdb169b",
   "metadata": {},
   "outputs": [],
   "source": [
    "6. Remove an element from a list by its index."
   ]
  },
  {
   "cell_type": "code",
   "execution_count": null,
   "id": "381b4149-513e-4351-8603-351bd02efaec",
   "metadata": {},
   "outputs": [],
   "source": [
    "list1 = [1,3,4,5,6,8,8,8,9]\n",
    "index = 2\n",
    "list1.pop(index)\n",
    "print(\"update list is:\",list1)"
   ]
  },
  {
   "cell_type": "code",
   "execution_count": null,
   "id": "62989285-48c1-4da8-9ae1-4d54271d8526",
   "metadata": {},
   "outputs": [],
   "source": [
    "7. Check if an element exists in a list."
   ]
  },
  {
   "cell_type": "code",
   "execution_count": null,
   "id": "69d8931c-b27a-4027-80ba-becddada89fa",
   "metadata": {},
   "outputs": [],
   "source": [
    "list1 = [1,3,4,5,6,8,8,8,9]\n",
    "element = 3\n",
    "for i in list1:\n",
    "    if element in list1:\n",
    "        print(\"present\")\n",
    "        break;\n"
   ]
  },
  {
   "cell_type": "code",
   "execution_count": null,
   "id": "d589d0e0-1983-495b-80c4-6a1075e07b16",
   "metadata": {},
   "outputs": [],
   "source": [
    "8. Find the index of the first occurrence of an element in a list."
   ]
  },
  {
   "cell_type": "code",
   "execution_count": null,
   "id": "a5bffcbc-37f9-42b5-814a-4689f97e85ee",
   "metadata": {},
   "outputs": [],
   "source": [
    "str_list = [\"This\", \"is\", \"a\", \"sample\", \"text.\", \"This\", \"text\", \"contains\", \"a\", \"sample\", \"word\"]\n",
    "word = \"sample\"\n",
    "\n",
    "try:\n",
    "    index = str_list.index(word)\n",
    "    print(f\"The word '{word}' first occurs at index {index}.\")\n",
    "except ValueError:\n",
    "    print(f\"The word '{word}' is not present in the list.\")\n"
   ]
  },
  {
   "cell_type": "code",
   "execution_count": null,
   "id": "3ba5a457-03ed-4e22-b20b-fe1626111dae",
   "metadata": {},
   "outputs": [],
   "source": [
    "9. Count the occurrences of an element in a list."
   ]
  },
  {
   "cell_type": "code",
   "execution_count": null,
   "id": "8cd520de-9c3c-48b5-9d96-be1cde1cbce1",
   "metadata": {},
   "outputs": [],
   "source": [
    "str_list = [\"This\", \"is\", \"a\", \"sample\", \"text.\", \"This\", \"text\", \"contains\", \"a\", \"sample\", \"word\"]\n",
    "word = \"sample\"\n",
    "\n",
    "count = 0\n",
    "\n",
    "for i in str_list:\n",
    "    if i == word:\n",
    "        count = count + 1\n",
    "\n",
    "print(count)\n"
   ]
  },
  {
   "cell_type": "code",
   "execution_count": null,
   "id": "853fe8fe-5ce8-4979-8c6f-d87642cf43e8",
   "metadata": {},
   "outputs": [],
   "source": [
    "10. Reverse the order of elements in a list."
   ]
  },
  {
   "cell_type": "code",
   "execution_count": null,
   "id": "659511db-69ba-48ce-a26b-47573ca27498",
   "metadata": {},
   "outputs": [],
   "source": [
    "list1 = [1,2,3,4,5,6,7,8]\n",
    "result = list1[::-1]\n",
    "print(result)"
   ]
  },
  {
   "cell_type": "code",
   "execution_count": null,
   "id": "6a520769-9e6c-4bb5-bb2c-4c282a4982f9",
   "metadata": {},
   "outputs": [],
   "source": [
    "11. Sort a list in ascending order."
   ]
  },
  {
   "cell_type": "code",
   "execution_count": null,
   "id": "23276df6-477f-47a5-9eab-ed8b3f01ba4b",
   "metadata": {},
   "outputs": [],
   "source": [
    "original_list = [5, 2, 8, 1, 3]\n",
    "original_list.sort()\n",
    "print(\"Sorted list in ascending order:\", original_list)\n"
   ]
  },
  {
   "cell_type": "code",
   "execution_count": null,
   "id": "27b681c5-dc7c-4c49-a8b9-9b30a4ce52fb",
   "metadata": {},
   "outputs": [],
   "source": [
    "12. Sort a list in descending order."
   ]
  },
  {
   "cell_type": "code",
   "execution_count": null,
   "id": "c207769f-e180-4e68-aaef-f9759fe62e7e",
   "metadata": {},
   "outputs": [],
   "source": [
    "original_list = [5, 2, 8, 1, 3]\n",
    "sorted_list = sorted(original_list, reverse=True)\n",
    "print(\"Original list:\", original_list)\n",
    "print(\"Sorted list in descending order:\", sorted_list)\n",
    "\n"
   ]
  },
  {
   "cell_type": "code",
   "execution_count": null,
   "id": "5580df45-5142-4cd5-8b3f-2613976dd391",
   "metadata": {},
   "outputs": [],
   "source": [
    "13. Create a list of even numbers from 1 to 20."
   ]
  },
  {
   "cell_type": "code",
   "execution_count": null,
   "id": "ccadbfb6-12d0-403f-93f5-f3f1a57236ea",
   "metadata": {},
   "outputs": [],
   "source": [
    "even = []\n",
    "for i in range(1,21):\n",
    "    if i%2 == 0:\n",
    "        even.append(i)\n",
    "print(even)"
   ]
  },
  {
   "cell_type": "code",
   "execution_count": null,
   "id": "e22ff6ec-f107-4654-ad10-68718b60e58e",
   "metadata": {},
   "outputs": [],
   "source": [
    "14. Create a list of odd numbers from 1 to 20."
   ]
  },
  {
   "cell_type": "code",
   "execution_count": null,
   "id": "03d3b647-6a2b-4271-8a37-0837382eeb6d",
   "metadata": {},
   "outputs": [],
   "source": [
    "odd = []\n",
    "for i in range(1,21):\n",
    "    if i%2 != 0:\n",
    "        odd.append(i)\n",
    "print(odd)"
   ]
  },
  {
   "cell_type": "code",
   "execution_count": null,
   "id": "aad58ea3-2d61-4ec0-bb78-62fa23de2e50",
   "metadata": {},
   "outputs": [],
   "source": [
    "15. Find the sum of all elements in a list."
   ]
  },
  {
   "cell_type": "code",
   "execution_count": null,
   "id": "26798eb2-9794-491a-b276-72d94c636dae",
   "metadata": {},
   "outputs": [],
   "source": [
    "sum = [1,2,4,5,6]\n",
    "total = 0\n",
    "for i in sum:\n",
    "    total = total + i\n",
    "print(total)"
   ]
  },
  {
   "cell_type": "code",
   "execution_count": null,
   "id": "65737c7a-ddfb-4931-a2dc-89c657d4f360",
   "metadata": {},
   "outputs": [],
   "source": [
    "16. Find the maximum value in a list."
   ]
  },
  {
   "cell_type": "code",
   "execution_count": null,
   "id": "f76a4c49-51f2-4a3c-a35e-6e9411690ef2",
   "metadata": {},
   "outputs": [],
   "source": [
    "list1 = [1,2,3,4,5,6]\n",
    "max = 0\n",
    "for i in list1:\n",
    "    if(max<i):\n",
    "        max = i\n",
    "print(max)"
   ]
  },
  {
   "cell_type": "code",
   "execution_count": null,
   "id": "6ed437c2-e512-4df1-ac42-4f28f7f5ed81",
   "metadata": {},
   "outputs": [],
   "source": [
    "17. Find the minimum value in a list."
   ]
  },
  {
   "cell_type": "code",
   "execution_count": null,
   "id": "561c1433-7c20-4713-85b1-1c932f77d3a4",
   "metadata": {},
   "outputs": [],
   "source": [
    "list1 = [10,23,4,56,1,0]\n",
    "min = list[0]\n",
    "for i in list1:\n",
    "    if(min>i):\n",
    "        min = i\n",
    "print(max)"
   ]
  },
  {
   "cell_type": "code",
   "execution_count": null,
   "id": "f3580e6d-5a67-49e7-a6af-8a0158f5d724",
   "metadata": {},
   "outputs": [],
   "source": [
    "18. Create a list of squares of numbers from 1 to 10."
   ]
  },
  {
   "cell_type": "code",
   "execution_count": null,
   "id": "fa8b9153-607a-4d59-bab3-121473f5f89a",
   "metadata": {},
   "outputs": [],
   "source": [
    "list1 = [10,23,4,56,1,0]\n",
    "list2 =[]\n",
    "for i in list1:\n",
    "    list2.append(i*i)\n",
    "print(list2)"
   ]
  },
  {
   "cell_type": "code",
   "execution_count": null,
   "id": "37d9d22f-889f-49b4-9d21-9dff26a25db4",
   "metadata": {},
   "outputs": [],
   "source": [
    "19. Create a list of random numbers."
   ]
  },
  {
   "cell_type": "code",
   "execution_count": null,
   "id": "a1622194-39e0-40ce-991f-2d6f534e1ba0",
   "metadata": {},
   "outputs": [],
   "source": [
    "import random\n",
    "random_numbers = [random.randint(1, 100) for _ in range(5)]\n",
    "print(random_numbers)\n"
   ]
  },
  {
   "cell_type": "code",
   "execution_count": null,
   "id": "605209fd-7249-418f-8279-e74fe6aec8de",
   "metadata": {},
   "outputs": [],
   "source": [
    "20. Remove duplicates from a list."
   ]
  },
  {
   "cell_type": "code",
   "execution_count": null,
   "id": "e29d38f3-bc4e-4812-be84-df58143b7473",
   "metadata": {},
   "outputs": [],
   "source": [
    "original_list = [1, 2, 2, 3, 4, 4, 5]\n",
    "unique_list = []\n",
    "\n",
    "for item in original_list:\n",
    "    if item not in unique_list:\n",
    "        unique_list.append(item)\n",
    "\n",
    "print(unique_list)\n"
   ]
  },
  {
   "cell_type": "code",
   "execution_count": null,
   "id": "6c4d5c56-1219-42a4-89b3-4c0799f201ae",
   "metadata": {},
   "outputs": [],
   "source": [
    "21. Find the common elements between two lists."
   ]
  },
  {
   "cell_type": "code",
   "execution_count": null,
   "id": "6157c26c-8b0f-4789-a0fe-04b5df8802de",
   "metadata": {},
   "outputs": [],
   "source": [
    "list1 = [1,2,3,4]\n",
    "list2 = [30,2,4,5]\n",
    "common_element = []\n",
    "for item in list1:\n",
    "    if item in list2:\n",
    "        common_element.append(item)\n",
    "        \n",
    "print(\"common element between two list\",common_element)\n",
    "        "
   ]
  },
  {
   "cell_type": "code",
   "execution_count": null,
   "id": "d6340fc3-4a08-4779-8bdb-73dcb2de06db",
   "metadata": {},
   "outputs": [],
   "source": [
    "22. Find the difference between two lists."
   ]
  },
  {
   "cell_type": "code",
   "execution_count": null,
   "id": "a3b00043-b88f-4d41-b8c6-af66d24a134a",
   "metadata": {},
   "outputs": [],
   "source": [
    "list1 = [1,2,4,5]\n",
    "list2 = [6,4,5,7]\n",
    "result = []\n",
    "for item in list1:\n",
    "    if item not in list2:\n",
    "        result.append(item)\n",
    "print(\"difference between two list:\",result)"
   ]
  },
  {
   "cell_type": "code",
   "execution_count": null,
   "id": "6d8e8994-ad05-4867-840c-6da14b4fc97e",
   "metadata": {},
   "outputs": [],
   "source": [
    "23. Merge two lists."
   ]
  },
  {
   "cell_type": "code",
   "execution_count": null,
   "id": "1c7ff13a-73c8-49d8-8ff2-c8c4ada5ed0c",
   "metadata": {},
   "outputs": [],
   "source": [
    "list1 = [1,2,4,5]\n",
    "list2 = [6,4,5,7]\n",
    "merge_list = list1 + list2\n",
    "print(merge_list)"
   ]
  },
  {
   "cell_type": "code",
   "execution_count": null,
   "id": "914f59d5-9df6-4f1d-b3fb-0b2667506d48",
   "metadata": {},
   "outputs": [],
   "source": [
    "24. Multiply all elements in a list by 2."
   ]
  },
  {
   "cell_type": "code",
   "execution_count": null,
   "id": "53eaeb52-f2af-4fe9-86af-99c34c06977a",
   "metadata": {},
   "outputs": [],
   "source": [
    "list1 = [1,2,4,5]\n",
    "result = []\n",
    "for item in list1:\n",
    "    result.append(item*item)\n",
    "print(result)\n",
    "    "
   ]
  },
  {
   "cell_type": "code",
   "execution_count": null,
   "id": "d235da0c-4021-448c-9100-385066a209e6",
   "metadata": {},
   "outputs": [],
   "source": [
    "25. Filter out all even numbers from a list."
   ]
  },
  {
   "cell_type": "code",
   "execution_count": null,
   "id": "0e86e3ce-53a6-42df-b4d5-439043e95050",
   "metadata": {},
   "outputs": [],
   "source": [
    "list1 = [5,6,8,10,2]\n",
    "result = []\n",
    "for i in list1:\n",
    "    if i%2 == 0:\n",
    "        result.append(i)\n",
    "print(result)\n",
    "        \n",
    "        "
   ]
  },
  {
   "cell_type": "code",
   "execution_count": null,
   "id": "733fce20-8fa3-4bb8-b010-3d21b1b5dec4",
   "metadata": {},
   "outputs": [],
   "source": [
    "26. Convert a list of strings to a list of integers."
   ]
  },
  {
   "cell_type": "code",
   "execution_count": null,
   "id": "34d7aa3f-9620-4d55-92dd-ae004f98bed5",
   "metadata": {},
   "outputs": [],
   "source": [
    "list1 = ['1','2','3','5']\n",
    "result =[]\n",
    "for string in list1:\n",
    "    result.append(int(string))\n",
    "print(result)\n",
    "    "
   ]
  },
  {
   "cell_type": "code",
   "execution_count": null,
   "id": "9fcb4f35-fa6f-4927-bb1d-0a73db1ab192",
   "metadata": {},
   "outputs": [],
   "source": [
    "27. Convert a list of integers to a list of strings."
   ]
  },
  {
   "cell_type": "code",
   "execution_count": null,
   "id": "d8101ee2-d3ef-4a7c-82b4-78324943c92a",
   "metadata": {},
   "outputs": [],
   "source": [
    "list1 =[1,2,3,4,5]\n",
    "result = []\n",
    "for item in list1:\n",
    "    result.append(str(item))\n",
    "print(result)"
   ]
  },
  {
   "cell_type": "code",
   "execution_count": null,
   "id": "6f0aa826-5d88-4108-8d99-4e87426fccc2",
   "metadata": {},
   "outputs": [],
   "source": [
    "28.flatten a nested list"
   ]
  },
  {
   "cell_type": "code",
   "execution_count": null,
   "id": "0fca3937-c8d3-46e3-b4a1-72079765eb1f",
   "metadata": {},
   "outputs": [],
   "source": [
    "my_list = [[1], [2, 3], [4, 5, 6, 7]]\n",
    "\n",
    "flat_list = [num for sublist in my_list for num in sublist]\n",
    "print(flat_list)\n",
    "\n",
    "\n"
   ]
  },
  {
   "cell_type": "code",
   "execution_count": null,
   "id": "24ac8ea0-173e-47c4-849a-9632574e6b98",
   "metadata": {},
   "outputs": [],
   "source": [
    "29. Create a list of the first 10 Fibonacci numbers."
   ]
  },
  {
   "cell_type": "code",
   "execution_count": null,
   "id": "9bf4db9a-516e-430a-a45e-919062429a5b",
   "metadata": {},
   "outputs": [],
   "source": [
    "list1 = [0,1]\n",
    "for _ in range(8):\n",
    "    next_element = list1[-1] + list1[-2]\n",
    "    list1.append(next_element)\n",
    "print(list1)\n"
   ]
  },
  {
   "cell_type": "code",
   "execution_count": null,
   "id": "d5312dc3-7db8-4b60-a7ad-bba063bedb47",
   "metadata": {},
   "outputs": [],
   "source": [
    "30. Check if a list is sorted."
   ]
  },
  {
   "cell_type": "code",
   "execution_count": null,
   "id": "d514cb36-212b-4413-a2a8-89caf79dfe5a",
   "metadata": {},
   "outputs": [],
   "source": [
    "list1 = [10, 20, 30, 40]\n",
    "\n",
    "for i in range(len(list1) - 1):\n",
    "    if list1[i] > list1[i + 1]:\n",
    "        print(\"false\")\n",
    "    \n",
    "print(\"true\")\n"
   ]
  },
  {
   "cell_type": "code",
   "execution_count": null,
   "id": "21a23bc1-a54e-4c19-a274-f9755527b42c",
   "metadata": {},
   "outputs": [],
   "source": [
    "31. Rotate a list to the left by `n` positions."
   ]
  },
  {
   "cell_type": "code",
   "execution_count": null,
   "id": "5bee2e0d-b4b8-4c0f-87f4-f25f038c2ede",
   "metadata": {},
   "outputs": [],
   "source": [
    "size = int(input(\"Enter the size: \"))\n",
    "list1 = [int(input(\"Enter element: \")) for _ in range(size)]\n",
    "print(\"Original list:\", list1)\n",
    "\n",
    "n = int(input(\"Enter the number of positions to rotate left: \"))\n",
    "\n",
    "n = n % size  \n",
    "\n",
    "#\n",
    "rotated_list = list1[n:] + list1[:n]\n",
    "\n",
    "print(\"Rotated list:\", rotated_list)\n"
   ]
  },
  {
   "cell_type": "code",
   "execution_count": null,
   "id": "69536843-9128-4765-af4b-3ef1afeb78d3",
   "metadata": {},
   "outputs": [],
   "source": [
    "32. Rotate a list to the right by `n` positions."
   ]
  },
  {
   "cell_type": "code",
   "execution_count": null,
   "id": "130777d5-9179-4d81-9dfb-058238c1db8e",
   "metadata": {},
   "outputs": [],
   "source": [
    "size = int(input(\"Enter the size: \"))\n",
    "list1 = [int(input(\"Enter element: \")) for _ in range(size)]\n",
    "print(\"Original list:\", list1)\n",
    "\n",
    "n = int(input(\"Enter the number of positions to rotate right: \"))\n",
    "\n",
    "n = n % size\n",
    "\n",
    "\n",
    "rotated_list = list1[-n:] + list1[:-n]\n",
    "\n",
    "print(\"Rotated list:\", rotated_list)\n"
   ]
  },
  {
   "cell_type": "code",
   "execution_count": null,
   "id": "4b6eb22e-0a00-4c66-9a20-464f8de93521",
   "metadata": {},
   "outputs": [],
   "source": [
    "33. Create a list of prime numbers up to 50."
   ]
  },
  {
   "cell_type": "code",
   "execution_count": null,
   "id": "43e2d5a7-f138-424b-ab74-ec0aadb94140",
   "metadata": {},
   "outputs": [],
   "source": [
    "list1 = []\n",
    "i = 2\n",
    "for i in range(2,51):\n",
    "    is_prime = True\n",
    "    for divisor in range(2,int(i**0.5)+1):\n",
    "        if i % divisor == 0:\n",
    "            is_prime = False\n",
    "            break\n",
    "    if is_prime:\n",
    "        list1.append(i)\n",
    "print(list1)\n",
    "    "
   ]
  },
  {
   "cell_type": "code",
   "execution_count": null,
   "id": "3a0767c0-7a49-462c-907e-decd6e042118",
   "metadata": {},
   "outputs": [],
   "source": [
    "34. Split a list into chunks of size `n`."
   ]
  },
  {
   "cell_type": "code",
   "execution_count": null,
   "id": "6aee401d-4151-4d16-8ffb-c802d316cc30",
   "metadata": {},
   "outputs": [],
   "source": [
    "list1 = [1,2,3,4,5,6,7,8,9]\n",
    "initial = 0\n",
    "ending = len(list1)\n",
    "step = int(input(\"enter the size\"))\n",
    "for i in range(initial,ending,step):\n",
    "    x = i\n",
    "    print(list1[x:x+step])"
   ]
  },
  {
   "cell_type": "code",
   "execution_count": null,
   "id": "114cdfb2-3af0-4d33-80f8-91ff9a11a346",
   "metadata": {},
   "outputs": [],
   "source": [
    "35. Find the second largest number in a list."
   ]
  },
  {
   "cell_type": "code",
   "execution_count": null,
   "id": "6af11695-b8ff-4722-a74a-c4f1e7d98b04",
   "metadata": {},
   "outputs": [],
   "source": [
    "list1 = [1,2,3,4,5,6,7]\n",
    "max = 0;\n",
    "for i in range(0,len(list1)):\n",
    "    if(list1[i]>max):\n",
    "        max = list1[i]\n",
    "second_max = 0\n",
    "for i in range(0,len(list1)):\n",
    "    if second_max < max:\n",
    "        if second_max < i:\n",
    "            second_max = i\n",
    "print(\"second max number is\",second_max)"
   ]
  },
  {
   "cell_type": "code",
   "execution_count": null,
   "id": "7b60b352-b50a-4401-be14-a2e5b2833d42",
   "metadata": {},
   "outputs": [],
   "source": [
    "36. Replace every element in a list with its square."
   ]
  },
  {
   "cell_type": "code",
   "execution_count": null,
   "id": "a009277f-f46f-4e20-be42-4697735e8bc8",
   "metadata": {},
   "outputs": [],
   "source": [
    "list1 = [1,2,3,4,5,6]\n",
    "squared_list = [x**2 for x in list1]\n",
    "print(squared_list)"
   ]
  },
  {
   "cell_type": "code",
   "execution_count": null,
   "id": "5c4fe17e-2f95-4156-8633-bd1be312e3eb",
   "metadata": {},
   "outputs": [],
   "source": [
    "37. Convert a list to a dictionary where list elements become keys and their\n",
    "indices become values."
   ]
  },
  {
   "cell_type": "code",
   "execution_count": null,
   "id": "89d9129a-f329-4759-a9cf-2f9194fd1965",
   "metadata": {},
   "outputs": [],
   "source": [
    "my_list = ['apple', 'banana', 'cherry', 'date']\n",
    "\n",
    "my_dict = {value: index for index, value in enumerate(my_list)}\n",
    "\n",
    "print(my_dict)\n"
   ]
  },
  {
   "cell_type": "code",
   "execution_count": null,
   "id": "f0b38f53-b941-48f4-a537-4a4e31461bad",
   "metadata": {},
   "outputs": [],
   "source": [
    "38. Shuffle the elements of a list randomly."
   ]
  },
  {
   "cell_type": "code",
   "execution_count": null,
   "id": "1a964ce8-37a4-47ed-aa93-597fac725f66",
   "metadata": {},
   "outputs": [],
   "source": [
    "import random\n",
    "list1 = [1,2,3,4,5]\n",
    "print(\"original list is\",list1)\n",
    "random.shuffle(list1)\n",
    "print(\"shuffle list is\",list1)"
   ]
  },
  {
   "cell_type": "code",
   "execution_count": null,
   "id": "eb58fc85-afdf-4937-9cce-9d234ba7c802",
   "metadata": {},
   "outputs": [],
   "source": [
    "39. Create a list of the first 10 factorial numbers."
   ]
  },
  {
   "cell_type": "code",
   "execution_count": null,
   "id": "3bf39185-bc67-48cf-8d50-9010489702a8",
   "metadata": {},
   "outputs": [],
   "source": [
    "list = []\n",
    "result = 1\n",
    "for i in range(1,11):\n",
    "    result = result*i\n",
    "    list.append(result)\n",
    "print(list)"
   ]
  },
  {
   "cell_type": "code",
   "execution_count": null,
   "id": "96e8f1c7-e854-4362-ac91-9d71f0bf7808",
   "metadata": {},
   "outputs": [],
   "source": [
    "40. Check if two lists have at least one element in common."
   ]
  },
  {
   "cell_type": "code",
   "execution_count": null,
   "id": "0763bdfe-04dd-482a-aa65-6576ad0051c4",
   "metadata": {},
   "outputs": [],
   "source": [
    "list_1 = [1,2,4,5,6]\n",
    "list_2 = [7,8,9,10,5]\n",
    "common_flag = False\n",
    "for i in list1:\n",
    "    if i in list1:\n",
    "        common_flag = True\n",
    "        break\n",
    "if common_flag:\n",
    "    print(\"common one elemnent\")\n",
    "else:\n",
    "    print(\"not common element\")"
   ]
  },
  {
   "cell_type": "code",
   "execution_count": null,
   "id": "71e47dd7-9474-4346-9c83-b44f2482da8c",
   "metadata": {},
   "outputs": [],
   "source": [
    "41. Remove all elements from a list."
   ]
  },
  {
   "cell_type": "code",
   "execution_count": null,
   "id": "02e60c5e-c2e1-4ee4-8f29-095ee7f635f1",
   "metadata": {},
   "outputs": [],
   "source": [
    "list2 = [1,3,4,5,6,7,9]\n",
    "list2.clear()\n",
    "print(list2)"
   ]
  },
  {
   "cell_type": "code",
   "execution_count": null,
   "id": "23266084-bfa5-490b-8066-839da10b6808",
   "metadata": {},
   "outputs": [],
   "source": [
    "42. Replace negative numbers in a list with 0."
   ]
  },
  {
   "cell_type": "code",
   "execution_count": null,
   "id": "9fb2c07b-8423-4a29-b111-26795b98cc77",
   "metadata": {},
   "outputs": [],
   "source": [
    "original_list1 = [1,-2,3,5,6,7,-9]\n",
    "updated_list = []\n",
    "for x in original_list1:\n",
    "    if x<0:\n",
    "        updated_list.append(0)\n",
    "    else:\n",
    "        updated_list.append(x)\n",
    "print(updated_list)"
   ]
  },
  {
   "cell_type": "code",
   "execution_count": null,
   "id": "fa76d791-3d49-405d-ada8-47c945be8e94",
   "metadata": {},
   "outputs": [],
   "source": [
    "43. Convert a string into a list of words."
   ]
  },
  {
   "cell_type": "code",
   "execution_count": null,
   "id": "cb232ec8-66e8-4e16-b6cf-e3b19b49bb1a",
   "metadata": {},
   "outputs": [],
   "source": [
    "my_string = \"hello, world\"\n",
    "char_list = [char for char in my_string] \n",
    "print(char_list)"
   ]
  },
  {
   "cell_type": "code",
   "execution_count": null,
   "id": "01b2b0eb-191b-47d7-8489-8b15d2cd8762",
   "metadata": {},
   "outputs": [],
   "source": [
    "44. Convert a list of words into a string."
   ]
  },
  {
   "cell_type": "code",
   "execution_count": null,
   "id": "fdd3cc5b-93a5-4649-9dc7-8ea446e17fc4",
   "metadata": {},
   "outputs": [],
   "source": [
    "word_list = [\"hello\",\"vineet\",\"kumar\"]\n",
    "\n",
    "result = \" \".join(word_list)\n",
    "print(result)"
   ]
  },
  {
   "cell_type": "code",
   "execution_count": null,
   "id": "867f4fd9-714f-4218-bb29-c344b29d3724",
   "metadata": {},
   "outputs": [],
   "source": [
    "45. Create a list of the first `n` powers of 2."
   ]
  },
  {
   "cell_type": "code",
   "execution_count": null,
   "id": "652b5918-4035-49ce-9dcf-632d4d513cab",
   "metadata": {},
   "outputs": [],
   "source": [
    "n = int(input(\"enter the number\"))\n",
    "list1 = []\n",
    "for i in range(1,n):\n",
    "    list1.append(i*i)\n",
    "print(list1)\n",
    "    "
   ]
  },
  {
   "cell_type": "code",
   "execution_count": null,
   "id": "34584eca-ef80-43de-837a-fa24056cc7f7",
   "metadata": {},
   "outputs": [],
   "source": [
    "46. Find the longest string in a list of strings."
   ]
  },
  {
   "cell_type": "code",
   "execution_count": null,
   "id": "6bca809d-4b57-474e-9219-87446af3aea7",
   "metadata": {},
   "outputs": [],
   "source": [
    "string_list = [\"apple\", \"banana\", \"cherry\", \"date\", \"elderberry\"]\n",
    "\n",
    "longest_string = \"\"\n",
    "max_length = 0\n",
    "\n",
    "\n",
    "for string in string_list:\n",
    "    if len(string) > max_length:\n",
    "        max_length = len(string)\n",
    "        longest_string = string\n",
    "\n",
    "print(\"The longest string is:\", longest_string)\n"
   ]
  },
  {
   "cell_type": "code",
   "execution_count": null,
   "id": "f6d27def-1ea2-4bd2-988b-50ea799750e1",
   "metadata": {},
   "outputs": [],
   "source": [
    "47. Find the shortest string in a list of strings."
   ]
  },
  {
   "cell_type": "code",
   "execution_count": null,
   "id": "cb5e3ad6-d9cd-4c51-b155-6ae38a5beb51",
   "metadata": {},
   "outputs": [],
   "source": [
    "string_list = [\"apple\", \"banana\", \"cherry\", \"date\", \"elderberry\"]\n",
    "\n",
    "smallest_string = string_list[0]\n",
    "min_length = len(string_list[0])\n",
    "\n",
    "\n",
    "for string in string_list:\n",
    "    if len(string) < min_length:\n",
    "        min_length = len(string)\n",
    "        smallest_string = string\n",
    "\n",
    "print(\"The longest string is:\", smallest_string)\n"
   ]
  },
  {
   "cell_type": "code",
   "execution_count": null,
   "id": "ac0cb62c-a617-4407-bc06-617b5c83c805",
   "metadata": {},
   "outputs": [],
   "source": [
    "48. Create a list of the first `n` triangular numbers."
   ]
  },
  {
   "cell_type": "code",
   "execution_count": null,
   "id": "75e0e1a7-7224-44f8-a10c-17b8dd7a52d2",
   "metadata": {},
   "outputs": [],
   "source": [
    "n = 5  \n",
    "triangular_numbers = []\n",
    "\n",
    "for i in range(1, n + 1):\n",
    "    triangular_number = i * (i + 1) // 2\n",
    "    triangular_numbers.append(triangular_number)\n",
    "\n",
    "print(triangular_numbers)\n"
   ]
  },
  {
   "cell_type": "code",
   "execution_count": null,
   "id": "4be76e4e-5cab-4b2f-9cb8-8940ccb55ba6",
   "metadata": {},
   "outputs": [],
   "source": [
    "49. Check if a list contains another list as a subsequence."
   ]
  },
  {
   "cell_type": "code",
   "execution_count": null,
   "id": "2f2ef2ec-6b32-4333-8cae-43b3c98acbcd",
   "metadata": {},
   "outputs": [],
   "source": [
    "main_list = [1, 2, 3, 4, 5, 6]\n",
    "sub_list = [2, 4, 6]\n",
    "\n",
    "sub_len = len(sub_list)\n",
    "main_len = len(main_list)\n",
    "\n",
    "sub_idx = 0\n",
    "main_idx = 0\n",
    "\n",
    "while main_idx < main_len:\n",
    "    if sub_list[sub_idx] == main_list[main_idx]:\n",
    "        sub_idx += 1\n",
    "    if sub_idx == sub_len:\n",
    "        break\n",
    "    main_idx += 1\n",
    "\n",
    "if sub_idx == sub_len:\n",
    "    print(\"The sublist is a subsequence of the main list.\")\n",
    "else:\n",
    "    print(\"The sublist is not a subsequence of the main list.\")\n"
   ]
  },
  {
   "cell_type": "code",
   "execution_count": null,
   "id": "0615da7f-71d7-4a00-be5d-4408be19b026",
   "metadata": {},
   "outputs": [],
   "source": [
    "50. Swap two elements in a list by their indices."
   ]
  },
  {
   "cell_type": "code",
   "execution_count": null,
   "id": "5142aab9-dd23-4d37-bc05-9ec8516cf1b1",
   "metadata": {},
   "outputs": [],
   "source": [
    "my_list = [1, 2, 3, 4, 5]\n",
    "\n",
    "# Indices of elements to be swapped\n",
    "index1 = 1\n",
    "index2 = 3\n",
    "\n",
    "# Check if the indices are valid\n",
    "if 0 <= index1 < len(my_list) and 0 <= index2 < len(my_list):\n",
    "    # Swap the elements at the specified indices\n",
    "    temp = my_list[index1]\n",
    "    my_list[index1] = my_list[index2]\n",
    "    my_list[index2] = temp\n",
    "\n",
    "print(my_list)\n"
   ]
  },
  {
   "cell_type": "code",
   "execution_count": null,
   "id": "9b030d38-e5ec-4b96-a798-18c8ac28b1cd",
   "metadata": {},
   "outputs": [],
   "source": [
    "Tuple Based Practice Problem :\n",
    "    \n",
    "    \n",
    "    "
   ]
  },
  {
   "cell_type": "code",
   "execution_count": null,
   "id": "04d33489-01a8-4843-a620-116477578b04",
   "metadata": {},
   "outputs": [],
   "source": [
    "1. Create a tuple with integers from 1 to 5."
   ]
  },
  {
   "cell_type": "code",
   "execution_count": null,
   "id": "687c4ad6-7e06-4086-a5af-73704772e7ce",
   "metadata": {},
   "outputs": [],
   "source": [
    "my_tuple = (1,2,3,4,5)\n",
    "print(my_tuple)"
   ]
  },
  {
   "cell_type": "code",
   "execution_count": null,
   "id": "b7c6f69b-af4d-4ec5-ab74-d9b75886ec01",
   "metadata": {},
   "outputs": [],
   "source": [
    "2. Access the third element of a tuple."
   ]
  },
  {
   "cell_type": "code",
   "execution_count": null,
   "id": "4b9ecbad-943b-45c2-85f5-7150c6c8a330",
   "metadata": {},
   "outputs": [],
   "source": [
    "my_tuple = (1,2,3,4,6)\n",
    "print(my_tuple[3])"
   ]
  },
  {
   "cell_type": "code",
   "execution_count": null,
   "id": "24445e28-0fca-4bfb-94c1-0c741d0a69cd",
   "metadata": {},
   "outputs": [],
   "source": [
    "3. Find the length of a tuple without using the `len()` function."
   ]
  },
  {
   "cell_type": "code",
   "execution_count": null,
   "id": "36201f08-740f-4d81-9d8e-36e70c8109e4",
   "metadata": {},
   "outputs": [],
   "source": [
    "my_tuple = (1,2,3,4,6)\n",
    "print(len(my_tuple))"
   ]
  },
  {
   "cell_type": "code",
   "execution_count": null,
   "id": "5d3c214a-5f6d-4367-9db1-430e1c985d00",
   "metadata": {},
   "outputs": [],
   "source": [
    "4. Count the occurrences of an element in a tuple."
   ]
  },
  {
   "cell_type": "code",
   "execution_count": null,
   "id": "b28f675f-85be-4569-af49-b8df0f53358d",
   "metadata": {},
   "outputs": [],
   "source": [
    "str_tuple = (\"This\", \"is\", \"a\", \"sample\", \"text.\", \"This\", \"text\", \"contains\", \"a\", \"sample\", \"word\")\n",
    "word = \"sample\"\n",
    "\n",
    "count = 0\n",
    "\n",
    "for i in str_tuple:\n",
    "    if i == word:\n",
    "        count = count + 1\n",
    "\n",
    "print(count)"
   ]
  },
  {
   "cell_type": "code",
   "execution_count": null,
   "id": "e15081c8-51de-492c-8ffa-82f6a6ba6776",
   "metadata": {},
   "outputs": [],
   "source": [
    "5. Find the index of the first occurrence of an element in a tuple."
   ]
  },
  {
   "cell_type": "code",
   "execution_count": null,
   "id": "df2d44e5-ac7d-4d29-86b9-40d625cd4dab",
   "metadata": {},
   "outputs": [],
   "source": [
    "str_tuple = (\"This\", \"is\", \"a\", \"sample\", \"text.\", \"This\", \"text\", \"contains\", \"a\", \"sample\", \"word\")\n",
    "word = \"sample\"\n",
    "\n",
    "try:\n",
    "    index = str_tuple.index(word)\n",
    "    print(f\"The word '{word}' first occurs at index {index}.\")\n",
    "except ValueError:\n",
    "    print(f\"The word '{word}' is not present in the list.\")"
   ]
  },
  {
   "cell_type": "code",
   "execution_count": null,
   "id": "c0f6e55a-3c04-41ad-965f-629ab7e97715",
   "metadata": {},
   "outputs": [],
   "source": [
    "6. Check if an element exists in a tuple."
   ]
  },
  {
   "cell_type": "code",
   "execution_count": null,
   "id": "399cea5f-e2a7-4cf1-9488-8b1e4286a142",
   "metadata": {},
   "outputs": [],
   "source": [
    "tuple = (1,3,4,5,6,8,8,8,9)\n",
    "element = 3\n",
    "for i in tuple:\n",
    "    if element in tuple:\n",
    "        print(\"present\")\n",
    "        break;"
   ]
  },
  {
   "cell_type": "code",
   "execution_count": null,
   "id": "d251bdfc-b0fb-4eff-a380-55e8dbc807b4",
   "metadata": {},
   "outputs": [],
   "source": [
    "7. Convert a tuple to a list."
   ]
  },
  {
   "cell_type": "code",
   "execution_count": null,
   "id": "7eeec7c4-2159-4dd7-8d73-81fe43b11ea2",
   "metadata": {},
   "outputs": [],
   "source": [
    "tuple = (1,2,3,4,5,6)\n",
    "print(list(tuple))"
   ]
  },
  {
   "cell_type": "code",
   "execution_count": null,
   "id": "6ec38f51-e1bc-4168-ac15-ee489a0b8ae9",
   "metadata": {},
   "outputs": [],
   "source": [
    "8. Convert a list to a tuple."
   ]
  },
  {
   "cell_type": "code",
   "execution_count": null,
   "id": "e0257d45-705d-4dac-aa95-ea9fc28749a6",
   "metadata": {},
   "outputs": [],
   "source": [
    "list1 = [1,2,3,4,5]\n",
    "print(tuple(list1))"
   ]
  },
  {
   "cell_type": "code",
   "execution_count": null,
   "id": "f487c4e7-f79b-4108-a973-d91d8ac4b431",
   "metadata": {
    "tags": []
   },
   "outputs": [],
   "source": [
    "9. Unpack the elements of a tuple into variables."
   ]
  },
  {
   "cell_type": "code",
   "execution_count": null,
   "id": "d19d7d1d-b9f8-45de-820c-8e5cef5a4a93",
   "metadata": {},
   "outputs": [],
   "source": [
    "\n",
    "my_tuple = (1, 2, 3)\n",
    "\n",
    "\n",
    "var1, var2, var3 = my_tuple\n",
    "\n",
    "\n",
    "print(var1)\n",
    "print(var2) \n",
    "print(var3)  \n"
   ]
  },
  {
   "cell_type": "code",
   "execution_count": null,
   "id": "a4632b9b-e644-47b9-8be5-15879f0345f3",
   "metadata": {},
   "outputs": [],
   "source": [
    "10. Create a tuple of even numbers from 1 to 10."
   ]
  },
  {
   "cell_type": "code",
   "execution_count": null,
   "id": "2135dea6-51d3-40bc-ab65-8be327551e2c",
   "metadata": {},
   "outputs": [],
   "source": [
    "my_tuple = ()\n",
    "even_numbers = []\n",
    "\n",
    "for i in range(1, 11):\n",
    "    if i % 2 == 0:\n",
    "        even_numbers.append(i)\n",
    "\n",
    "my_tuple = tuple(even_numbers)\n",
    "print(my_tuple)\n",
    "\n"
   ]
  },
  {
   "cell_type": "code",
   "execution_count": null,
   "id": "40334cdb-7f01-4f19-a25f-cbe424ad2b7c",
   "metadata": {},
   "outputs": [],
   "source": [
    "11. Create a tuple of odd numbers from 1 to 10."
   ]
  },
  {
   "cell_type": "code",
   "execution_count": null,
   "id": "eaaac860-77be-4f3f-8d9b-56746c64a8d1",
   "metadata": {},
   "outputs": [],
   "source": [
    "my_tuple = ()\n",
    "odd_numbers = []\n",
    "\n",
    "for i in range(1, 11):\n",
    "    if i % 2 != 0:\n",
    "        odd_numbers.append(i)\n",
    "\n",
    "my_tuple = tuple(odd_numbers)\n",
    "print(my_tuple)\n"
   ]
  },
  {
   "cell_type": "code",
   "execution_count": null,
   "id": "a33a0d18-2cb8-47b4-be52-ffb138391853",
   "metadata": {},
   "outputs": [],
   "source": [
    "12. Concatenate two tuples."
   ]
  },
  {
   "cell_type": "code",
   "execution_count": null,
   "id": "33b40072-d379-45ec-9486-9f30a17efc3c",
   "metadata": {},
   "outputs": [],
   "source": [
    "tuple = (1,2,3)\n",
    "tuple1 = (1,3,4)\n",
    "result = tuple + tuple1\n",
    "print(result)"
   ]
  },
  {
   "cell_type": "code",
   "execution_count": null,
   "id": "79bb5af0-dc2f-4d16-8782-ac2a65134d89",
   "metadata": {},
   "outputs": [],
   "source": [
    "13. Repeat a tuple three times."
   ]
  },
  {
   "cell_type": "code",
   "execution_count": null,
   "id": "3230c232-5beb-4193-94e3-f58db658e4d3",
   "metadata": {},
   "outputs": [],
   "source": [
    "tuple = (1,3,4)\n",
    "print(tuple*3)"
   ]
  },
  {
   "cell_type": "code",
   "execution_count": null,
   "id": "db858fe7-1795-463c-88c6-2fec366a2031",
   "metadata": {},
   "outputs": [],
   "source": [
    "14. Check if a tuple is empty."
   ]
  },
  {
   "cell_type": "code",
   "execution_count": null,
   "id": "68805592-9e7d-4f3f-8059-21abbdb1dc6e",
   "metadata": {},
   "outputs": [],
   "source": [
    "tuple1 = (1,2,3,4)\n",
    "if(len(tuple1) != 0):\n",
    "    print(\"not empty\")\n",
    "else:\n",
    "    print(\"empty\")\n"
   ]
  },
  {
   "cell_type": "code",
   "execution_count": null,
   "id": "f840b9a4-60ff-4b9d-84e9-4ce064b44f47",
   "metadata": {},
   "outputs": [],
   "source": [
    "15. Create a nested tuple."
   ]
  },
  {
   "cell_type": "code",
   "execution_count": null,
   "id": "bb28da90-5933-4b03-92b2-e407728d734c",
   "metadata": {},
   "outputs": [],
   "source": [
    "nested_tuple = ()\n",
    "\n",
    "for i in range(3):\n",
    "    inner_tuple = (i * 2, i * 2 + 1)\n",
    "    nested_tuple += (inner_tuple,)\n",
    "print(nested_tuple)\n",
    "\n"
   ]
  },
  {
   "cell_type": "code",
   "execution_count": null,
   "id": "ce261eff-17ba-4ba7-b5c0-572cb9273fed",
   "metadata": {},
   "outputs": [],
   "source": [
    "16. Access the first element of a nested tuple."
   ]
  },
  {
   "cell_type": "code",
   "execution_count": null,
   "id": "af4420a1-7485-48cd-b1b8-0bd7c63f4959",
   "metadata": {},
   "outputs": [],
   "source": [
    "tuple = ((0,1),(2,3),(4,5))\n",
    "result = tuple[0][0]\n",
    "print(result)"
   ]
  },
  {
   "cell_type": "code",
   "execution_count": null,
   "id": "cb73378a-f203-48e2-8a9b-65d2105a9434",
   "metadata": {},
   "outputs": [],
   "source": [
    "17. Create a tuple with a single element."
   ]
  },
  {
   "cell_type": "code",
   "execution_count": null,
   "id": "295adeb1-3dfc-43b4-841b-d52363685b7f",
   "metadata": {},
   "outputs": [],
   "source": [
    "single_element_tuple = (42,)\n",
    "print(single_element_tuple)\n"
   ]
  },
  {
   "cell_type": "code",
   "execution_count": null,
   "id": "ab7f4677-ce29-445f-b46d-f0d174c44002",
   "metadata": {},
   "outputs": [],
   "source": [
    "18. Compare two tuples."
   ]
  },
  {
   "cell_type": "code",
   "execution_count": null,
   "id": "59b4e876-2b49-4158-853b-bd2a64039f55",
   "metadata": {},
   "outputs": [],
   "source": [
    "tuple = (1, 3, 4)\n",
    "tuple1 = (1, 3, 4)\n",
    "\n",
    "if tuple == tuple1:\n",
    "    print(True)\n",
    "else:\n",
    "    print(False)\n"
   ]
  },
  {
   "cell_type": "code",
   "execution_count": null,
   "id": "96874df9-65c2-4931-a0e2-af9bfbe836bd",
   "metadata": {},
   "outputs": [],
   "source": [
    "19. Delete a tuple."
   ]
  },
  {
   "cell_type": "code",
   "execution_count": null,
   "id": "53f1f135-c353-47ce-96ea-dbc07a2cf2a5",
   "metadata": {},
   "outputs": [],
   "source": [
    "my_tuple = (1,2,3)\n",
    "del my_tuple\n"
   ]
  },
  {
   "cell_type": "code",
   "execution_count": null,
   "id": "ec6a625c-8c67-449f-8153-62c890609b8b",
   "metadata": {},
   "outputs": [],
   "source": [
    "20. Slice a tuple."
   ]
  },
  {
   "cell_type": "code",
   "execution_count": null,
   "id": "a92a9411-0003-4af0-819b-1e781ae3d02d",
   "metadata": {},
   "outputs": [],
   "source": [
    "my_tuple = (1,2,4,5)\n",
    "subset = my_tuple[0:2]\n",
    "print(subset)"
   ]
  },
  {
   "cell_type": "code",
   "execution_count": null,
   "id": "a7215c27-90f9-4912-895e-a3133c1b43d3",
   "metadata": {},
   "outputs": [],
   "source": [
    "21. Find the maximum value in a tuple."
   ]
  },
  {
   "cell_type": "code",
   "execution_count": null,
   "id": "a0a209e0-0821-4ee2-9f11-51a3f13d8d0d",
   "metadata": {},
   "outputs": [],
   "source": [
    "my_tuple = (1,34,5,78)\n",
    "maxi = 0;\n",
    "for i in my_tuple:\n",
    "    if maxi< i:\n",
    "        maxi = i\n",
    "print(maxi)"
   ]
  },
  {
   "cell_type": "code",
   "execution_count": null,
   "id": "fdd94ae9-8f78-4463-b659-1ff529609b84",
   "metadata": {},
   "outputs": [],
   "source": [
    "22. Find the minimum value in a tuple."
   ]
  },
  {
   "cell_type": "code",
   "execution_count": null,
   "id": "ecc3325d-ff70-477e-a802-d826b320dc17",
   "metadata": {},
   "outputs": [],
   "source": [
    "my_tuple = (100,34,5,78)\n",
    "min = my_tuple[0];\n",
    "for i in my_tuple:\n",
    "    if min >i:\n",
    "        min = i\n",
    "print(min)"
   ]
  },
  {
   "cell_type": "code",
   "execution_count": null,
   "id": "5785f639-95db-40b7-8840-364c459767dd",
   "metadata": {},
   "outputs": [],
   "source": [
    "23. Convert a string to a tuple of characters."
   ]
  },
  {
   "cell_type": "code",
   "execution_count": null,
   "id": "6753039f-30b7-40a5-b9e9-f9dd8f82d7fd",
   "metadata": {},
   "outputs": [],
   "source": [
    "my_str = \"vineet kumar\"\n",
    "result = tuple(my_str)\n",
    "print(result)"
   ]
  },
  {
   "cell_type": "code",
   "execution_count": null,
   "id": "3e16616f-b961-4930-b37b-aa728735aadc",
   "metadata": {},
   "outputs": [],
   "source": [
    "24. Convert a tuple of characters to a string."
   ]
  },
  {
   "cell_type": "code",
   "execution_count": null,
   "id": "23c3aedf-4a50-41ac-adcf-8a5723a32136",
   "metadata": {},
   "outputs": [],
   "source": [
    "my_tuple = ('H', 'e', 'l', 'l', 'o', ',', ' ', 'W', 'o', 'r', 'l', 'd', '!')\n",
    "\n",
    "\n",
    "my_string = ''.join(my_tuple)\n",
    "\n",
    "print(my_string)\n"
   ]
  },
  {
   "cell_type": "code",
   "execution_count": null,
   "id": "d59994d9-ce6b-4d6b-acac-f1722d808946",
   "metadata": {},
   "outputs": [],
   "source": [
    "25. Create a tuple from multiple data types."
   ]
  },
  {
   "cell_type": "code",
   "execution_count": null,
   "id": "0e26ba8f-f5f6-4de8-a0db-1201e82fc481",
   "metadata": {},
   "outputs": [],
   "source": [
    "tuple = (\"vineet\",1,4.6)\n",
    "print(tuple)"
   ]
  },
  {
   "cell_type": "code",
   "execution_count": null,
   "id": "7973c9ce-0b86-4b7d-b9f0-e1cebea88186",
   "metadata": {},
   "outputs": [],
   "source": [
    "26. Check if two tuples are identical."
   ]
  },
  {
   "cell_type": "code",
   "execution_count": null,
   "id": "1850c014-f970-4daf-8224-782df83d7452",
   "metadata": {},
   "outputs": [],
   "source": [
    "tuple = (1,2,3)\n",
    "tuple1 = (1,2,3)\n",
    "if tuple == tuple1:\n",
    "    print(\"identical\")\n",
    "else:\n",
    "    print(\"not identical\")"
   ]
  },
  {
   "cell_type": "code",
   "execution_count": null,
   "id": "12313343-2525-4484-8bfd-28fb354fbe8d",
   "metadata": {},
   "outputs": [],
   "source": [
    "27. Sort the elements of a tuple."
   ]
  },
  {
   "cell_type": "code",
   "execution_count": null,
   "id": "a7974c2b-c736-4cff-8788-fe54909f89dd",
   "metadata": {},
   "outputs": [],
   "source": [
    "my_tuple = (1,78,3,9,18)\n",
    "my_list = list(my_tuple)\n",
    "my_list.sort()\n",
    "print(tuple(my_list))"
   ]
  },
  {
   "cell_type": "code",
   "execution_count": null,
   "id": "fe1d51a8-8b34-46ba-8019-76eb45599095",
   "metadata": {},
   "outputs": [],
   "source": [
    "28. Convert a tuple of integers to a tuple of strings."
   ]
  },
  {
   "cell_type": "code",
   "execution_count": null,
   "id": "178392bc-a67a-40bf-9803-838086676b9c",
   "metadata": {},
   "outputs": [],
   "source": [
    "tuple_of_integers = (1, 2, 3, 4, 5)\n",
    "tuple_of_strings = ()\n",
    "\n",
    "for num in tuple_of_integers:\n",
    "    tuple_of_strings += (str(num),)\n",
    "\n",
    "print(tuple_of_strings)\n"
   ]
  },
  {
   "cell_type": "code",
   "execution_count": null,
   "id": "ad35a14b-8bc9-4afa-9c85-dc13112473ae",
   "metadata": {},
   "outputs": [],
   "source": [
    "29. Convert a tuple of strings to a tuple of integers."
   ]
  },
  {
   "cell_type": "code",
   "execution_count": null,
   "id": "b19eb58c-f3fc-46e1-86eb-06f79a692c1e",
   "metadata": {},
   "outputs": [],
   "source": [
    "tuple_of_strings =('1', '2', '3', '4', '5')\n",
    "tuple_of_integers = ()\n",
    "\n",
    "for num in tuple_of_strings :\n",
    "    tuple_of_integers += (int(num),)\n",
    "\n",
    "print(tuple_of_integers )"
   ]
  },
  {
   "cell_type": "code",
   "execution_count": null,
   "id": "17ef8189-9beb-459e-9a12-bad86b9d9171",
   "metadata": {},
   "outputs": [],
   "source": [
    "30. Merge two tuples."
   ]
  },
  {
   "cell_type": "code",
   "execution_count": null,
   "id": "36bd9642-81a1-43b4-b28a-7486762ea03c",
   "metadata": {},
   "outputs": [],
   "source": [
    "tuple1 = (1,2,3,5,6)\n",
    "tuple2 = (1,2,3,4)\n",
    "merge = tuple1 + tuple2\n",
    "print(merge)"
   ]
  },
  {
   "cell_type": "code",
   "execution_count": null,
   "id": "6eede7ae-94f9-442e-8ba4-fc551f4de94c",
   "metadata": {},
   "outputs": [],
   "source": [
    "31. Flatten a nested tuple."
   ]
  },
  {
   "cell_type": "code",
   "execution_count": null,
   "id": "daee4ebd-7d12-4298-8f2c-093d0d5fef1e",
   "metadata": {},
   "outputs": [],
   "source": [
    "my_list = [[1], [2, 3], [4, 5, 6, 7]]\n",
    "\n",
    "flat_list = [num for sublist in my_list for num in sublist]\n",
    "print(tuple(flat_list))\n",
    "\n"
   ]
  },
  {
   "cell_type": "code",
   "execution_count": null,
   "id": "02fe5eba-9190-48d6-90e7-f30010ecc736",
   "metadata": {},
   "outputs": [],
   "source": [
    "32. Create a tuple of the first 5 prime numbers."
   ]
  },
  {
   "cell_type": "code",
   "execution_count": null,
   "id": "f075011e-1911-43db-8a20-09e074a677ad",
   "metadata": {},
   "outputs": [],
   "source": [
    "list1 = []\n",
    "i = 2\n",
    "for i in range(2,6):\n",
    "    is_prime = True\n",
    "    for divisor in range(2,int(i**0.5)+1):\n",
    "        if i % divisor == 0:\n",
    "            is_prime = False\n",
    "            break\n",
    "    if is_prime:\n",
    "        list1.append(i)\n",
    "print(tuple(list1))"
   ]
  },
  {
   "cell_type": "code",
   "execution_count": null,
   "id": "b41cb1a4-0a29-4f55-88d7-6be5bd13e6b2",
   "metadata": {},
   "outputs": [],
   "source": [
    "33. Check if a tuple is a palindrome."
   ]
  },
  {
   "cell_type": "code",
   "execution_count": null,
   "id": "5f765b90-1d95-49e4-a994-aefb2f7e6ed0",
   "metadata": {},
   "outputs": [],
   "source": [
    "tuple_1 = (1,2,1)\n",
    "result = tuple_1[::-1]\n",
    "if result == tuple_1:\n",
    "    print(\"pallindrome\")\n",
    "else:\n",
    "    print(\"not pallindrome\")"
   ]
  },
  {
   "cell_type": "code",
   "execution_count": null,
   "id": "8b2e9924-ad2d-4821-abac-18f1db557e08",
   "metadata": {},
   "outputs": [],
   "source": [
    "34. Create a tuple of squares of numbers from 1 to 5."
   ]
  },
  {
   "cell_type": "code",
   "execution_count": null,
   "id": "0fbcab9f-d1a2-4763-8a8c-c2e8718a31fe",
   "metadata": {},
   "outputs": [],
   "source": [
    "list1 = []\n",
    "for i in range(1,6):\n",
    "    list1.append(i*i)\n",
    "result = tuple(list1)\n",
    "print(result)"
   ]
  },
  {
   "cell_type": "code",
   "execution_count": null,
   "id": "d197cb0c-c90d-4d2a-aba4-5b0de67f557a",
   "metadata": {},
   "outputs": [],
   "source": [
    "35. Filter out all even numbers from a tuple."
   ]
  },
  {
   "cell_type": "code",
   "execution_count": null,
   "id": "acb1cf50-d250-40d7-888b-9e569def9083",
   "metadata": {},
   "outputs": [],
   "source": [
    "original_tuple = (1, 2, 3, 4, 5, 6, 7, 8, 9, 10)\n",
    "filtered_tuple = tuple(x for x in original_tuple if x % 2 != 0)\n",
    "print(filtered_tuple)\n"
   ]
  },
  {
   "cell_type": "code",
   "execution_count": null,
   "id": "b0e7b6f8-b9c1-4fb1-8dd6-48801ca69b24",
   "metadata": {},
   "outputs": [],
   "source": [
    "36. Multiply all elements in a tuple by 2."
   ]
  },
  {
   "cell_type": "code",
   "execution_count": null,
   "id": "706679a2-8266-4cf4-82dd-7ca9e7e414b5",
   "metadata": {},
   "outputs": [],
   "source": [
    "tuple_1 = (1,3,4,5,6)\n",
    "list = []\n",
    "for i in tuple_1:\n",
    "    list.append(i*2)\n",
    "tuple_1 = tuple(list)\n",
    "print(tuple_1)\n",
    "    "
   ]
  },
  {
   "cell_type": "code",
   "execution_count": null,
   "id": "c715ee60-fcb6-4ad3-b46a-1040aa625363",
   "metadata": {},
   "outputs": [],
   "source": [
    "37. Create a tuple of random numbers."
   ]
  },
  {
   "cell_type": "code",
   "execution_count": null,
   "id": "3c2682d5-0213-4f0b-9ae0-937e860a70e2",
   "metadata": {},
   "outputs": [],
   "source": [
    "import random\n",
    "\n",
    "\n",
    "random_numbers = tuple(random.randint(1, 100) for _ in range(5))\n",
    "\n",
    "print(random_numbers)\n"
   ]
  },
  {
   "cell_type": "code",
   "execution_count": null,
   "id": "23d46d62-cf5b-4065-8bea-04ab2e3fcabd",
   "metadata": {},
   "outputs": [],
   "source": [
    "38. Check if a tuple is sorted."
   ]
  },
  {
   "cell_type": "code",
   "execution_count": null,
   "id": "0177d345-6fc7-4a63-b559-760355320539",
   "metadata": {},
   "outputs": [],
   "source": [
    "tuple_1 = (1, 2, 3, 4, 5)\n",
    "is_sorted = True\n",
    "\n",
    "for i in range(len(tuple_1) - 1):\n",
    "    if tuple_1[i] > tuple_1[i + 1]:\n",
    "        is_sorted = False\n",
    "        break\n",
    "\n",
    "if is_sorted:\n",
    "    print(\"sorted\")\n",
    "else:\n",
    "    print(\"not sorted\")\n"
   ]
  },
  {
   "cell_type": "code",
   "execution_count": null,
   "id": "901c9d7e-55cb-45fc-ba54-a0f30bafb087",
   "metadata": {},
   "outputs": [],
   "source": [
    "39. Rotate a tuple to the left by `n` positions."
   ]
  },
  {
   "cell_type": "code",
   "execution_count": null,
   "id": "c0aa9853-420a-4d14-8df4-fa83a688a7ab",
   "metadata": {},
   "outputs": [],
   "source": [
    "size = int(input(\"Enter the size: \"))\n",
    "tuple_1 = [int(input(\"Enter element: \")) for _ in range(size)]\n",
    "print(\"Original list:\", tuple_1)\n",
    "n = int(input(\"Enter the number of positions to rotate left: \"))\n",
    "\n",
    "n = n % size  \n",
    "rotated_tuple = tuple_1[n:] +tuple_1[:n]\n",
    "\n",
    "print(\"Rotated list:\", rotated_tuple)\n"
   ]
  },
  {
   "cell_type": "code",
   "execution_count": null,
   "id": "8070c588-2549-4f4a-b50d-fb5df514a4ec",
   "metadata": {},
   "outputs": [],
   "source": [
    "40. Rotate a tuple to the right by `n` positions."
   ]
  },
  {
   "cell_type": "code",
   "execution_count": null,
   "id": "908adbd5-400f-4a9e-ac00-636e7d42531b",
   "metadata": {},
   "outputs": [],
   "source": [
    "size = int(input(\"Enter the size: \"))\n",
    "tuple_1 = [int(input(\"Enter element: \")) for _ in range(size)]\n",
    "print(\"Original list:\", tuple_1)\n",
    "\n",
    "n = int(input(\"Enter the number of positions to rotate right: \"))\n",
    "\n",
    "n = n % size\n",
    "\n",
    "\n",
    "rotated_rotated_tuple_1  = tuple_1[-n:] + tuple_1[:-n]\n",
    "\n",
    "print(\"Rotated list:\", rotated_rotated_tuple_1 )\n"
   ]
  },
  {
   "cell_type": "code",
   "execution_count": null,
   "id": "061eac0c-f624-4b8e-9bfe-1f91025bffde",
   "metadata": {},
   "outputs": [],
   "source": [
    "41. Create a tuple of the first 5 Fibonacci numbers."
   ]
  },
  {
   "cell_type": "code",
   "execution_count": null,
   "id": "2a44074a-c54a-4871-91c1-2356c9ab1173",
   "metadata": {},
   "outputs": [],
   "source": [
    "list_1 = [0,1]\n",
    "for _ in range(3):\n",
    "    next_element = list_1[-1] + list_1[-2]\n",
    "    list_1.append(next_element)\n",
    "tuple_1 = tuple(list_1)\n",
    "print(tuple_1)\n"
   ]
  },
  {
   "cell_type": "code",
   "execution_count": null,
   "id": "3f3d9c2a-26b1-4ecb-9c4a-4fea186aee85",
   "metadata": {},
   "outputs": [],
   "source": [
    "42. Create a tuple from user input."
   ]
  },
  {
   "cell_type": "code",
   "execution_count": null,
   "id": "fba32af7-e8b2-48ac-97a7-4fde8b66fdb1",
   "metadata": {},
   "outputs": [],
   "source": [
    "size = int(input(\"Enter the size: \"))\n",
    "tuple_1 = [int(input(\"Enter element: \")) for _ in range(size)]\n",
    "print(\"Original list:\", tuple_1)"
   ]
  },
  {
   "cell_type": "code",
   "execution_count": null,
   "id": "50cb5b82-61a1-4f05-a3e2-4dc03bfc74c4",
   "metadata": {},
   "outputs": [],
   "source": [
    "43. Swap two elements in a tuple."
   ]
  },
  {
   "cell_type": "code",
   "execution_count": null,
   "id": "6b1f590b-3631-469d-bb89-82e1654e34a0",
   "metadata": {},
   "outputs": [],
   "source": [
    "\n",
    "original_list = [10, 20, 30, 40, 50]\n",
    "\n",
    "index1 = 1\n",
    "index2 = 3\n",
    "\n",
    "\n",
    "mutable_list = list(original_list)\n",
    "\n",
    "\n",
    "\n",
    "if 0 <= index1 < len(mutable_list) and 0 <= index2 < len(mutable_list):\n",
    "   \n",
    "    mutable_list[index1], mutable_list[index2] = mutable_list[index2], mutable_list[index1]\n",
    "\n",
    "\n",
    " \n",
    "    result_list = mutable_list\n",
    " \n",
    "\n",
    "    print(result_list)\n",
    "else:\n",
    "   \n",
    "    print(\"Invalid indices provided.\")\n"
   ]
  },
  {
   "cell_type": "code",
   "execution_count": null,
   "id": "71b83e34-7795-44c9-b7d5-d11020c2b892",
   "metadata": {},
   "outputs": [],
   "source": [
    "44. Reverse the elements of a tuple."
   ]
  },
  {
   "cell_type": "code",
   "execution_count": null,
   "id": "1c39faf9-431e-4c19-91a8-c6ecf685b213",
   "metadata": {},
   "outputs": [],
   "source": [
    "tuple_1 = (1,2,3,4,5)\n",
    "result = tuple_1[::-1]\n",
    "print(result)"
   ]
  },
  {
   "cell_type": "code",
   "execution_count": null,
   "id": "8fa07af7-515e-423d-ad8d-296339857c31",
   "metadata": {},
   "outputs": [],
   "source": [
    "45. Create a tuple of the first `n` powers of 2."
   ]
  },
  {
   "cell_type": "code",
   "execution_count": null,
   "id": "ffd5c061-4608-4d3d-a0ae-b1464a8d8ab5",
   "metadata": {},
   "outputs": [],
   "source": [
    "n = int(input(\"enter the number\"))\n",
    "list1 = []\n",
    "for i in range(1,n):\n",
    "    list1.append(i*i)\n",
    "tuple_1 = list1\n",
    "print(tuple_1)"
   ]
  },
  {
   "cell_type": "code",
   "execution_count": null,
   "id": "f856997b-5882-4a81-a503-dba0e83f9c07",
   "metadata": {},
   "outputs": [],
   "source": [
    "46. Find the longest string in a tuple of strings."
   ]
  },
  {
   "cell_type": "code",
   "execution_count": null,
   "id": "a15095fe-a8f2-4ada-959f-4c16c445d9e9",
   "metadata": {},
   "outputs": [],
   "source": [
    "string_tuple = (\"apple\", \"banana\", \"cherry\", \"date\", \"elderberry\")\n",
    "\n",
    "longest_string = \"\"\n",
    "max_length = 0\n",
    "\n",
    "\n",
    "for string in string_tuple:\n",
    "    if len(string) > max_length:\n",
    "        max_length = len(string)\n",
    "        longest_string = string\n",
    "\n",
    "print(\"The longest string is:\", longest_string)\n"
   ]
  },
  {
   "cell_type": "code",
   "execution_count": null,
   "id": "aa77a05f-2100-4af5-b5f5-c27463b29741",
   "metadata": {},
   "outputs": [],
   "source": [
    "47. Find the shortest string in a tuple of strings."
   ]
  },
  {
   "cell_type": "code",
   "execution_count": null,
   "id": "1b6d42b2-63e7-432c-9384-94a1798c5372",
   "metadata": {},
   "outputs": [],
   "source": [
    "string_list = [\"apple\", \"banana\", \"cherry\", \"date\", \"elderberry\"]\n",
    "\n",
    "smallest_string = string_list[0]\n",
    "min_length = len(string_list[0])\n",
    "\n",
    "\n",
    "for string in string_list:\n",
    "    if len(string) < min_length:\n",
    "        min_length = len(string)\n",
    "        smallest_string = string\n",
    "\n",
    "print(\"The longest string is:\", smallest_string)\n"
   ]
  },
  {
   "cell_type": "code",
   "execution_count": null,
   "id": "28122ecd-74fe-4dc1-8602-0774428220fd",
   "metadata": {},
   "outputs": [],
   "source": [
    "48. Create a tuple of the first `n` triangular numbers."
   ]
  },
  {
   "cell_type": "code",
   "execution_count": null,
   "id": "330cf31f-6f39-4c3a-b3ce-dc50f5fd6932",
   "metadata": {},
   "outputs": [],
   "source": [
    "n = 5  \n",
    "triangular_numbers = []\n",
    "\n",
    "for i in range(1, n + 1):\n",
    "    triangular_number = i * (i + 1) // 2\n",
    "    triangular_numbers.append(triangular_number)\n",
    "tuple_1 = tuple(triangular_numbers)\n",
    "print(tuple_1)"
   ]
  },
  {
   "cell_type": "code",
   "execution_count": null,
   "id": "5aeff1d7-1313-4a39-b878-2418ac3e4469",
   "metadata": {},
   "outputs": [],
   "source": [
    "49. Check if a tuple contains another tuple as a subsequence."
   ]
  },
  {
   "cell_type": "code",
   "execution_count": null,
   "id": "d922f8a4-91ff-461b-9f39-2785cd00ad85",
   "metadata": {},
   "outputs": [],
   "source": [
    "main_tuple = (1, 2, 3, 4, 5, 6)\n",
    "sub_tuple = (2, 4, 6)\n",
    "\n",
    "sub_len = len(sub_tuple)\n",
    "main_len = len(main_tuple)\n",
    "\n",
    "sub_idx = 0\n",
    "main_idx = 0\n",
    "\n",
    "while main_idx < main_len:\n",
    "    if sub_tuple[sub_idx] == main_tuple [main_idx]:\n",
    "        sub_idx += 1\n",
    "    if sub_idx == sub_len:\n",
    "        break\n",
    "    main_idx += 1\n",
    "\n",
    "if sub_idx == sub_len:\n",
    "    print(\"The sub_tuple is a subsequence of the main_tuple.\")\n",
    "else:\n",
    "    print(\"The sub_tuple is not a subsequence of the main_tuple.\")"
   ]
  },
  {
   "cell_type": "code",
   "execution_count": null,
   "id": "f8dce263-95ee-4e76-b6be-5f0bdab1846d",
   "metadata": {},
   "outputs": [],
   "source": [
    "50. Create a tuple of alternating 1s and 0s of length `n`."
   ]
  },
  {
   "cell_type": "code",
   "execution_count": null,
   "id": "ff821d22-ed7f-4aba-95eb-f09953b7c11e",
   "metadata": {},
   "outputs": [],
   "source": [
    "n = int(input(\"enter the number\"))\n",
    "alternating_list = []\n",
    "for i in range(n):\n",
    "    if i%2 == 0:\n",
    "        alternating_list.append(1)\n",
    "    else:\n",
    "        alternating_list.append(0)\n",
    "alternating_tuple = tuple(alternating_list)\n",
    "print(alternating_tuple)"
   ]
  },
  {
   "cell_type": "code",
   "execution_count": null,
   "id": "7d7b8ecf-786f-4d30-8fbd-ab190e4b18c5",
   "metadata": {},
   "outputs": [],
   "source": [
    "\n",
    "\n",
    "\n",
    "\n",
    "Set Based Practice Problem :\n",
    "    \n",
    "    \n",
    "    \n",
    "    \n",
    "    \n",
    "    "
   ]
  },
  {
   "cell_type": "code",
   "execution_count": null,
   "id": "af9b62f2-3357-4725-867a-ceb5c7c94933",
   "metadata": {},
   "outputs": [],
   "source": [
    "1. Create a set with integers from 1 to 5."
   ]
  },
  {
   "cell_type": "code",
   "execution_count": null,
   "id": "c5c4b589-9f32-4b54-9704-ea4c211f7258",
   "metadata": {},
   "outputs": [],
   "source": [
    "thisset = {1,2,3,4,5}\n",
    "print(thisset)"
   ]
  },
  {
   "cell_type": "code",
   "execution_count": null,
   "id": "98d7aa7e-60e3-4e1f-aeb1-ac5de76f3504",
   "metadata": {},
   "outputs": [],
   "source": [
    "2. Add an element to a set."
   ]
  },
  {
   "cell_type": "code",
   "execution_count": null,
   "id": "b30281c1-614d-4bf0-b6af-f39b0b80db31",
   "metadata": {},
   "outputs": [],
   "source": [
    "thisset = {1,2,3,4,5}\n",
    "thisset.add(6)\n",
    "print(thisset)"
   ]
  },
  {
   "cell_type": "code",
   "execution_count": null,
   "id": "bbb53986-5945-4ebe-8750-6a1f4c4c337f",
   "metadata": {},
   "outputs": [],
   "source": [
    "3. Remove an element from a set."
   ]
  },
  {
   "cell_type": "code",
   "execution_count": null,
   "id": "1d17da96-aff4-4109-a3cf-48a07974a5ac",
   "metadata": {},
   "outputs": [],
   "source": [
    "thisset = {1,2,3,4,5}\n",
    "thisset.remove(5)\n",
    "print(thisset)\n"
   ]
  },
  {
   "cell_type": "code",
   "execution_count": null,
   "id": "310e7bb6-6707-44db-87f6-f1e048b9f3f2",
   "metadata": {},
   "outputs": [],
   "source": [
    "4. Check if an element exists in a set."
   ]
  },
  {
   "cell_type": "code",
   "execution_count": null,
   "id": "3ac9c4c5-ddc8-43c0-9cc2-8beb6f9af7e4",
   "metadata": {},
   "outputs": [],
   "source": [
    "thisset = {1, 2, 3, 4, 5}\n",
    "element = 4\n",
    "\n",
    "for x in thisset:\n",
    "    if x == element:\n",
    "        print(\"present\")\n",
    "        break\n",
    "\n",
    "    "
   ]
  },
  {
   "cell_type": "code",
   "execution_count": null,
   "id": "d93dc4b6-b98a-4a74-b121-edadb974dc6c",
   "metadata": {},
   "outputs": [],
   "source": [
    "5. Find the length of a set without using the `len()` function."
   ]
  },
  {
   "cell_type": "code",
   "execution_count": null,
   "id": "997116da-4e41-4f36-8322-f2c774f50e73",
   "metadata": {},
   "outputs": [],
   "source": [
    "set = {1,2,3,5,4}\n",
    "count = 0\n",
    "for i in set:\n",
    "    count = count +1\n",
    "\n",
    "print(count)\n",
    "    "
   ]
  },
  {
   "cell_type": "code",
   "execution_count": null,
   "id": "a2f2bb41-4077-4e22-94d9-5698d86a9023",
   "metadata": {},
   "outputs": [],
   "source": [
    "6. Clear all elements from a set."
   ]
  },
  {
   "cell_type": "code",
   "execution_count": null,
   "id": "b9365b6f-b816-4ac8-94d3-f061c92cc333",
   "metadata": {},
   "outputs": [],
   "source": [
    "set1 = {1,2,3,4,5,6,7}\n",
    "set1.clear()\n",
    "print(set1)"
   ]
  },
  {
   "cell_type": "code",
   "execution_count": null,
   "id": "b99aadb8-4551-46c2-b438-64a00bc37c39",
   "metadata": {},
   "outputs": [],
   "source": [
    "7. Create a set of even numbers from 1 to 10."
   ]
  },
  {
   "cell_type": "code",
   "execution_count": null,
   "id": "dcf972de-c380-4f49-924b-6a08173cb59e",
   "metadata": {},
   "outputs": [],
   "source": [
    "even_number = set()\n",
    "for i in range(1,11):\n",
    "    if i%2 == 0:\n",
    "        even_number.add(i)\n",
    "print(even_number)\n",
    "        "
   ]
  },
  {
   "cell_type": "code",
   "execution_count": null,
   "id": "56b8da45-7b55-45d4-8ae0-6d5e64a8eff7",
   "metadata": {},
   "outputs": [],
   "source": [
    "8. Create a set of odd numbers from 1 to 10."
   ]
  },
  {
   "cell_type": "code",
   "execution_count": null,
   "id": "97278b8f-1647-4f6e-90a9-8753af6d85b1",
   "metadata": {},
   "outputs": [],
   "source": [
    "odd_number = set()\n",
    "for i in range(1,11):\n",
    "    if i%2 != 0:\n",
    "        odd_number.add(i)\n",
    "print(odd_number)"
   ]
  },
  {
   "cell_type": "code",
   "execution_count": null,
   "id": "7f996864-4d2f-44f3-887c-8f7f94833099",
   "metadata": {},
   "outputs": [],
   "source": [
    "9. Find the union of two sets."
   ]
  },
  {
   "cell_type": "code",
   "execution_count": null,
   "id": "03acaeb6-efe8-416c-a8eb-9dcea8dd9a6d",
   "metadata": {},
   "outputs": [],
   "source": [
    "set1 = {1,2,3}\n",
    "set2 = {4,6,7}\n",
    "print(set1.union(set2))"
   ]
  },
  {
   "cell_type": "code",
   "execution_count": null,
   "id": "f4cf31b1-51ce-4b7d-a7ce-0354eff11921",
   "metadata": {},
   "outputs": [],
   "source": [
    "10. Find the intersection of two sets."
   ]
  },
  {
   "cell_type": "code",
   "execution_count": null,
   "id": "0db30e98-6a37-45dd-9921-91da4b3a1221",
   "metadata": {},
   "outputs": [],
   "source": [
    "set1 = {1,2,3}\n",
    "set2 = {4,2,7}\n",
    "result = set()\n",
    "for item in set1:\n",
    "    if item in set2:\n",
    "        result.add(item)\n",
    "print(result)"
   ]
  },
  {
   "cell_type": "code",
   "execution_count": null,
   "id": "1cca6ce7-14f4-4bb9-baef-e0cfa9c5a344",
   "metadata": {},
   "outputs": [],
   "source": [
    "11. Find the difference between two sets."
   ]
  },
  {
   "cell_type": "code",
   "execution_count": null,
   "id": "0e1f215a-dfb3-429e-9c86-05d4fc3f269c",
   "metadata": {},
   "outputs": [],
   "source": [
    "set_1 = {1,2,4}\n",
    "set_2 = {1,3,4}\n",
    "result = set()\n",
    "for item in set1:\n",
    "    if item not in set_2:\n",
    "        result.add(item)\n",
    "print(result)\n",
    "        \n",
    "        \n",
    "\n"
   ]
  },
  {
   "cell_type": "code",
   "execution_count": null,
   "id": "49161af6-9efb-4b34-bc54-5c1fc0f71594",
   "metadata": {},
   "outputs": [],
   "source": [
    "12. Check if a set is a subset of another set."
   ]
  },
  {
   "cell_type": "code",
   "execution_count": null,
   "id": "4ceffe00-c7cb-4da1-8945-e969aed45f51",
   "metadata": {},
   "outputs": [],
   "source": [
    "set1 = {1, 2, 3, 4, 5}\n",
    "set2 = {3, 4}\n",
    "is_subset = True\n",
    "for i in set2:\n",
    "    if i not in set1:\n",
    "        is_subset = False\n",
    "        break\n",
    "if is_subset:\n",
    "    print(\"subsset of another set\")\n",
    "else:\n",
    "    print(\"not subset of another set\")\n",
    "        "
   ]
  },
  {
   "cell_type": "code",
   "execution_count": null,
   "id": "6eaca72b-684c-4dba-8447-fd8da1fb9352",
   "metadata": {},
   "outputs": [],
   "source": [
    "13. Check if a set is a superset of another set."
   ]
  },
  {
   "cell_type": "code",
   "execution_count": null,
   "id": "0dfcdf62-e15e-4ca0-82e9-dd12024b2ee5",
   "metadata": {},
   "outputs": [],
   "source": [
    "set1 = {1, 2, 3, 4}\n",
    "set2 = {1, 3, 4}\n",
    "\n",
    "is_superset = True\n",
    "\n",
    "for element in set2:\n",
    "    if element not in set1:\n",
    "        is_superset = False\n",
    "        break\n",
    "\n",
    "if is_superset:\n",
    "    print(\"set1 is a superset of set2\")\n",
    "else:\n",
    "    print(\"set1 is not a superset of set2\")\n"
   ]
  },
  {
   "cell_type": "code",
   "execution_count": null,
   "id": "8cc47310-1b5d-437b-ba10-7d612ccd8be5",
   "metadata": {},
   "outputs": [],
   "source": [
    "14. Create a set from a list."
   ]
  },
  {
   "cell_type": "code",
   "execution_count": null,
   "id": "70894bd1-5b49-4908-8e8c-40de452671b8",
   "metadata": {},
   "outputs": [],
   "source": [
    "mylist = [1,22,2,2,4,5,6]\n",
    "my_set = set()\n",
    "for i in mylist:\n",
    "    my_set.add(i)\n",
    "print(my_set)"
   ]
  },
  {
   "cell_type": "code",
   "execution_count": null,
   "id": "22f15e00-ff2d-4386-8eab-1f2d902c4165",
   "metadata": {},
   "outputs": [],
   "source": [
    "15. Convert a set to a list."
   ]
  },
  {
   "cell_type": "code",
   "execution_count": null,
   "id": "49de4590-30c3-4905-ada7-ac337439bb42",
   "metadata": {},
   "outputs": [],
   "source": [
    "my_set ={1,2,3,4,5}\n",
    "my_list = []\n",
    "for i in my_set:\n",
    "    my_list.append(i)\n",
    "print(my_list)"
   ]
  },
  {
   "cell_type": "code",
   "execution_count": null,
   "id": "3304ec22-0233-4cea-8ef7-e80ebaa3eaca",
   "metadata": {},
   "outputs": [],
   "source": [
    "16. Remove a random element from a set."
   ]
  },
  {
   "cell_type": "code",
   "execution_count": null,
   "id": "6525f9c5-f5f5-4c55-8342-52591e316be2",
   "metadata": {},
   "outputs": [],
   "source": [
    "import random\n",
    "\n",
    "my_set = {1, 2, 3, 4, 5}\n",
    "\n",
    "\n",
    "removed_element = random.choice(list(my_set))\n",
    "my_set.remove(removed_element)\n",
    "\n",
    "print(f\"Removed element: {removed_element}\")\n",
    "print(f\"Updated set: {my_set}\")\n",
    "\n"
   ]
  },
  {
   "cell_type": "code",
   "execution_count": null,
   "id": "5cd1ea5b-c96e-45a3-be78-ca20e1c4649d",
   "metadata": {},
   "outputs": [],
   "source": [
    "17. Pop an element from a set."
   ]
  },
  {
   "cell_type": "code",
   "execution_count": null,
   "id": "6616caa6-5a46-4e9e-99f7-fbdebf591a36",
   "metadata": {},
   "outputs": [],
   "source": [
    "my_set = {1, 2, 3, 4, 5}\n",
    "\n",
    "popped_element = my_set.pop()\n",
    "\n",
    "print(f\"Popped element: {popped_element}\")\n",
    "print(f\"Updated set: {my_set}\")\n",
    "\n"
   ]
  },
  {
   "cell_type": "code",
   "execution_count": null,
   "id": "528b94ea-bcb1-4fe3-93cb-ea37fbc894fe",
   "metadata": {},
   "outputs": [],
   "source": [
    "18. Check if two sets have no elements in common."
   ]
  },
  {
   "cell_type": "code",
   "execution_count": null,
   "id": "d2a101b1-7625-43f4-95ed-fb46b00a190c",
   "metadata": {},
   "outputs": [],
   "source": [
    "set1 = {1,2,3,4}\n",
    "set2 = {5,6,7,8}\n",
    "is_common = True\n",
    "for item in set1:\n",
    "    if item not in set1:\n",
    "        is_common = False\n",
    "        break\n",
    "if is_common:\n",
    "    print(\"not common element between two sets\")\n",
    "else:\n",
    "    print(\"common element between two sets:\")"
   ]
  },
  {
   "cell_type": "code",
   "execution_count": null,
   "id": "ea22262d-36d1-4c2a-80ab-f1a26fc902c9",
   "metadata": {},
   "outputs": [],
   "source": [
    "19. Find the symmetric difference between two sets."
   ]
  },
  {
   "cell_type": "code",
   "execution_count": null,
   "id": "ab1bf3c7-5b1c-4bef-b614-19e8011cf008",
   "metadata": {},
   "outputs": [],
   "source": [
    "set1 = {1, 2, 3, 4, 5} #we can alse ^ opertor to find symmetric difference\n",
    "set2 = {3, 4, 5, 6, 7}\n",
    "result = set()\n",
    "for i in set1:\n",
    "    if i not in set2:\n",
    "        result.add(i)\n",
    "for i in set2:\n",
    "    if i not in set1:\n",
    "        result.add(i) \n",
    "print(result)\n",
    "        \n"
   ]
  },
  {
   "cell_type": "code",
   "execution_count": null,
   "id": "e308186f-6d20-43f5-ae9c-ebddd3c5223a",
   "metadata": {},
   "outputs": [],
   "source": [
    "20. Update a set with elements from another set."
   ]
  },
  {
   "cell_type": "code",
   "execution_count": null,
   "id": "e194a0cf-3864-4e64-90f7-c0824c7fc186",
   "metadata": {},
   "outputs": [],
   "source": [
    "x = {1,2,3,4}\n",
    "y = {4,5,6,7}\n",
    "x.update(y)\n",
    "print(x)"
   ]
  },
  {
   "cell_type": "code",
   "execution_count": null,
   "id": "8d476f93-3144-4f67-8b15-5dab83af60a8",
   "metadata": {},
   "outputs": [],
   "source": [
    "21. Create a set of the first 5 prime numbers."
   ]
  },
  {
   "cell_type": "code",
   "execution_count": null,
   "id": "f89b2025-1eed-4eb5-995f-e1f237d0e654",
   "metadata": {},
   "outputs": [],
   "source": [
    "prime_set = set()\n",
    "count = 0\n",
    "num = 2\n",
    "\n",
    "while count < 5:\n",
    "    is_prime = True\n",
    "\n",
    "    for divisor in range(2, int(num**0.5) + 1):\n",
    "        if num % divisor == 0:\n",
    "            is_prime = False\n",
    "            break\n",
    "\n",
    "    if is_prime:\n",
    "        prime_set.add(num)\n",
    "        count += 1\n",
    "\n",
    "    num += 1\n",
    "\n",
    "print(prime_set)\n"
   ]
  },
  {
   "cell_type": "code",
   "execution_count": null,
   "id": "958bedda-1e46-44e5-8c8d-fb674b0ff983",
   "metadata": {},
   "outputs": [],
   "source": [
    "22. Check if two sets are identical."
   ]
  },
  {
   "cell_type": "code",
   "execution_count": null,
   "id": "60df8742-21c5-4405-b1dd-843d8526b6f4",
   "metadata": {},
   "outputs": [],
   "source": [
    "set_A = {1,2,3,4}\n",
    "set_B = {1,2,3,4}\n",
    "if set_A == set_B:\n",
    "    print(\"identical\")\n",
    "else:\n",
    "    print(\"not identical\")"
   ]
  },
  {
   "cell_type": "code",
   "execution_count": null,
   "id": "ac49cb4c-f851-4ede-b2fc-e60f4d789b14",
   "metadata": {},
   "outputs": [],
   "source": [
    "23. Create a frozen set."
   ]
  },
  {
   "cell_type": "code",
   "execution_count": null,
   "id": "28e43af1-81e2-4e6b-aa53-6066bc183ab3",
   "metadata": {},
   "outputs": [],
   "source": [
    "my_set = {1, 2, 3, 4, 5}\n",
    "my_frozen_set = frozenset(my_set)\n",
    "\n",
    "print(my_frozen_set)\n"
   ]
  },
  {
   "cell_type": "code",
   "execution_count": null,
   "id": "f1b24251-d59a-4310-8bca-7ffcbd68042d",
   "metadata": {},
   "outputs": [],
   "source": [
    "24. Check if a set is disjoint with another set."
   ]
  },
  {
   "cell_type": "code",
   "execution_count": null,
   "id": "fd54b2f5-5a9c-46d3-a9e8-f2acc5465954",
   "metadata": {},
   "outputs": [],
   "source": [
    "set1 = {1, 2, 3, 4, 5}\n",
    "set2 = {6, 7, 8}\n",
    "\n",
    "if set1.isdisjoint(set2):\n",
    "    print(\"The sets are disjoint\")\n",
    "else:\n",
    "    print(\"The sets have common elements\")\n"
   ]
  },
  {
   "cell_type": "code",
   "execution_count": null,
   "id": "8af86ce3-0913-464a-9f84-57ed1a2712c8",
   "metadata": {},
   "outputs": [],
   "source": [
    "25. Create a set of squares of numbers from 1 to 5."
   ]
  },
  {
   "cell_type": "code",
   "execution_count": null,
   "id": "e8851cc9-a0cb-47e1-ae25-ca69c2609c8e",
   "metadata": {},
   "outputs": [],
   "source": [
    "result = set()\n",
    "for item in range(5):\n",
    "    result.add(item*item)\n",
    "print(result)\n",
    "    "
   ]
  },
  {
   "cell_type": "code",
   "execution_count": null,
   "id": "6c6e8b69-a6c4-465c-afee-a18234fcc3d2",
   "metadata": {},
   "outputs": [],
   "source": [
    "26. Filter out all even numbers from a set."
   ]
  },
  {
   "cell_type": "code",
   "execution_count": null,
   "id": "4f0b9f78-ef55-41fd-bc18-faee821e448d",
   "metadata": {},
   "outputs": [],
   "source": [
    "orginal = {1,2,3,4,5,6,7,8,9,10}\n",
    "result = {x  for x in orginal if x%2 == 0}\n",
    "print(result)"
   ]
  },
  {
   "cell_type": "code",
   "execution_count": null,
   "id": "8f4b58a1-06df-44b5-8745-9acc51bf3357",
   "metadata": {},
   "outputs": [],
   "source": [
    "27. Multiply all elements in a set by 2."
   ]
  },
  {
   "cell_type": "code",
   "execution_count": null,
   "id": "13d7fb0b-9aee-43cd-8fd1-fec23ddd22ce",
   "metadata": {},
   "outputs": [],
   "source": [
    "original_set = { 2, 3, 4}\n",
    "result = set()\n",
    "for item in original_set:\n",
    "    result.add(item*item)\n",
    "print(result)\n",
    "\n",
    "    "
   ]
  },
  {
   "cell_type": "code",
   "execution_count": null,
   "id": "164ebc1b-ad43-4ed7-815a-dbe9a296c8db",
   "metadata": {},
   "outputs": [],
   "source": [
    "28. Create a set of random numbers."
   ]
  },
  {
   "cell_type": "code",
   "execution_count": null,
   "id": "1d957bd1-83c5-454c-b216-4921b46d3b21",
   "metadata": {},
   "outputs": [],
   "source": [
    "import random\n",
    "\n",
    "\n",
    "random_numbers = {random.randint(1, 100) for _ in range(5)}\n",
    "\n",
    "print(random_numbers)"
   ]
  },
  {
   "cell_type": "code",
   "execution_count": null,
   "id": "8f27b22e-41f9-4253-9b21-e54d6ebcb52f",
   "metadata": {},
   "outputs": [],
   "source": [
    "29. Check if a set is empty."
   ]
  },
  {
   "cell_type": "code",
   "execution_count": null,
   "id": "f363cfe8-4062-4a46-92d8-fd01d231df54",
   "metadata": {},
   "outputs": [],
   "source": [
    "result = set()\n",
    "if len(result) == 0:\n",
    "    print(\"set is empty\")\n",
    "    "
   ]
  },
  {
   "cell_type": "code",
   "execution_count": null,
   "id": "4a01a510-14cd-4821-92e5-aa00c03e49ac",
   "metadata": {},
   "outputs": [],
   "source": [
    "30. Create a nested set (hint: use frozenset)."
   ]
  },
  {
   "cell_type": "code",
   "execution_count": null,
   "id": "8b14fa0b-9717-41de-bb23-e006c13610b9",
   "metadata": {},
   "outputs": [],
   "source": [
    "# Create inner frozensets\n",
    "inner_set1 = frozenset([1, 2, 3])\n",
    "inner_set2 = frozenset([4, 5, 6])\n",
    "\n",
    "# Create a set containing the inner frozensets\n",
    "nested_set = {inner_set1, inner_set2}\n",
    "\n",
    "print(nested_set)\n"
   ]
  },
  {
   "cell_type": "code",
   "execution_count": null,
   "id": "d56d9b47-8c8b-4453-8da6-98d56f865cc3",
   "metadata": {},
   "outputs": [],
   "source": [
    "31. Remove an element from a set using the discard method."
   ]
  },
  {
   "cell_type": "code",
   "execution_count": null,
   "id": "12bd50eb-088b-450d-90c2-72915d8b434f",
   "metadata": {},
   "outputs": [],
   "source": [
    "my_set = {1, 2, 3, 4, 5}\n",
    "\n",
    "# Remove an element from the set using discard\n",
    "my_set.discard(3)\n",
    "\n",
    "print(my_set)\n"
   ]
  },
  {
   "cell_type": "code",
   "execution_count": null,
   "id": "945b5346-3da9-484e-bc92-f7c60eefd708",
   "metadata": {},
   "outputs": [],
   "source": [
    "32. Compare two sets."
   ]
  },
  {
   "cell_type": "code",
   "execution_count": null,
   "id": "647dba86-9899-4ba4-86f0-609554695681",
   "metadata": {},
   "outputs": [],
   "source": [
    "set1 = {1,3,4}\n",
    "set2 = {1,3,4}\n",
    "if set1 == set2:\n",
    "    print(\"equal\")\n",
    "else:\n",
    "    print(\"unequal\")"
   ]
  },
  {
   "cell_type": "code",
   "execution_count": null,
   "id": "4ac2ac61-0cef-4b8a-9cfb-71228ca94a9a",
   "metadata": {},
   "outputs": [],
   "source": [
    "33. Create a set from a string."
   ]
  },
  {
   "cell_type": "code",
   "execution_count": null,
   "id": "37140f9f-4865-4f08-8958-00be4538641d",
   "metadata": {},
   "outputs": [],
   "source": [
    "my_string = \"hello\"\n",
    "my_set = set()\n",
    "\n",
    "for char in my_string:\n",
    "    my_set.add(char)\n",
    "\n",
    "print(my_set)\n"
   ]
  },
  {
   "cell_type": "code",
   "execution_count": null,
   "id": "cb38d578-ba5c-4131-b478-c1084fdc4526",
   "metadata": {},
   "outputs": [],
   "source": [
    "35. Convert a set of integers to a set of strings."
   ]
  },
  {
   "cell_type": "code",
   "execution_count": null,
   "id": "1587bef5-9042-4d59-b354-f328f5ed711a",
   "metadata": {},
   "outputs": [],
   "source": [
    "int_set = {1, 2, 3, 4, 5}\n",
    "\n",
    "# Convert the set of integers to a set of strings using a set comprehension\n",
    "str_set = {str(x) for x in int_set}\n",
    "\n",
    "print(str_set)\n",
    "\n"
   ]
  },
  {
   "cell_type": "code",
   "execution_count": null,
   "id": "186a525d-654e-4838-a76d-0f8403220c2a",
   "metadata": {},
   "outputs": [],
   "source": [
    "36. Create a set from a tuple."
   ]
  },
  {
   "cell_type": "code",
   "execution_count": null,
   "id": "4c891e9b-c66c-420d-aa7d-811a50e584eb",
   "metadata": {},
   "outputs": [],
   "source": [
    "tuple1 = {1,2,3,4,5}\n",
    "result = set()\n",
    "for i in tuple1:\n",
    "    result.add(i)\n",
    "print(result)"
   ]
  },
  {
   "cell_type": "code",
   "execution_count": null,
   "id": "5000fc4b-af1f-49d4-ac35-b60c1d2ef94f",
   "metadata": {},
   "outputs": [],
   "source": [
    "37. Convert a set to a tuple."
   ]
  },
  {
   "cell_type": "code",
   "execution_count": null,
   "id": "76bb0d9d-a64b-4897-9878-194d8d75dbb8",
   "metadata": {},
   "outputs": [],
   "source": [
    "my_set = {1, 2, 3, 4, 5}\n",
    "\n",
    "# Convert the set to a tuple\n",
    "my_tuple = tuple(my_set)\n",
    "\n",
    "print(my_tuple)\n"
   ]
  },
  {
   "cell_type": "code",
   "execution_count": null,
   "id": "d1233453-7005-4637-bbbb-bd8984213009",
   "metadata": {},
   "outputs": [],
   "source": [
    "38. Find the maximum value in a set."
   ]
  },
  {
   "cell_type": "code",
   "execution_count": null,
   "id": "014466f6-1b03-4814-bfd8-95ef56107d2b",
   "metadata": {},
   "outputs": [],
   "source": [
    "set1 = {1,2,3,4,5,6}\n",
    "max = 0\n",
    "for i in set1:\n",
    "    if i>max:\n",
    "        max = i\n",
    "print(max)"
   ]
  },
  {
   "cell_type": "code",
   "execution_count": null,
   "id": "493dd4bb-1710-442c-9846-8e42c4ad0930",
   "metadata": {},
   "outputs": [],
   "source": [
    "39. Find the minimum value in a set."
   ]
  },
  {
   "cell_type": "code",
   "execution_count": null,
   "id": "fd7077a4-fd34-4344-8991-85f521d8edb3",
   "metadata": {},
   "outputs": [],
   "source": [
    "set1 = {1, 2, 3, 4, 5, 6}\n",
    "\n",
    "# Find the minimum element in the set using the min() function\n",
    "min_value = min(set1)\n",
    "\n",
    "print(min_value)\n"
   ]
  },
  {
   "cell_type": "code",
   "execution_count": null,
   "id": "c0967250-8ca2-4047-87af-59ea01bb9c60",
   "metadata": {},
   "outputs": [],
   "source": [
    "40. Create a set from user input."
   ]
  },
  {
   "cell_type": "code",
   "execution_count": null,
   "id": "d40f7a2a-81ff-4110-9e82-0516b3a72bcc",
   "metadata": {},
   "outputs": [],
   "source": [
    "# Initialize an empty set\n",
    "user_set = set()\n",
    "\n",
    "# Prompt the user to enter values\n",
    "while True:\n",
    "    value = input(\"Enter a value (or press Enter to finish): \")\n",
    "    \n",
    "    # If the user presses Enter without entering a value, exit the loop\n",
    "    if not value:\n",
    "        break\n",
    "    \n",
    "    # Add the value to the se\n",
    "    user_set.add(value)\n",
    "\n",
    "print(\"Set created from user input:\", user_set)\n"
   ]
  },
  {
   "cell_type": "code",
   "execution_count": null,
   "id": "10b152b4-5029-4e56-acb1-371185cd2c49",
   "metadata": {},
   "outputs": [],
   "source": [
    "41. Check if the intersection of two sets is empty."
   ]
  },
  {
   "cell_type": "code",
   "execution_count": null,
   "id": "9d984fa2-a843-4552-a68f-4a99000388ea",
   "metadata": {},
   "outputs": [],
   "source": [
    "set1 = {1, 2, 3}\n",
    "set2 = {3, 4, 5}\n",
    "\n",
    "intersection_result = set1.intersection(set2)\n",
    "\n",
    "if not intersection_result:\n",
    "    print(\"The sets have no common elements (intersection is empty)\")\n",
    "else:\n",
    "    print(\"The sets have common elements (intersection is not empty)\")\n"
   ]
  },
  {
   "cell_type": "code",
   "execution_count": null,
   "id": "eafd9819-653b-466f-a567-a9c4698e955a",
   "metadata": {},
   "outputs": [],
   "source": [
    "42. Create a set of the first 5 Fibonacci numbers."
   ]
  },
  {
   "cell_type": "code",
   "execution_count": null,
   "id": "a5f7892e-cdb2-4278-8f8d-62a27385f423",
   "metadata": {},
   "outputs": [],
   "source": [
    "def generate_fibonacci(n):\n",
    "    fibonacci_set = set()\n",
    "    a, b = 0, 1\n",
    "\n",
    "    for _ in range(n):\n",
    "        fibonacci_set.add(a)\n",
    "        a, b = b, a + b\n",
    "\n",
    "    return fibonacci_set\n",
    "\n",
    "# Generate the first 5 Fibonacci numbers\n",
    "first_5_fibonacci = generate_fibonacci(5)\n",
    "print(first_5_fibonacci)\n",
    "\n"
   ]
  },
  {
   "cell_type": "code",
   "execution_count": null,
   "id": "c7a42ab5-9e81-40e2-b0aa-a52dc55ced6d",
   "metadata": {},
   "outputs": [],
   "source": [
    "43. Remove duplicates from a list using sets."
   ]
  },
  {
   "cell_type": "code",
   "execution_count": null,
   "id": "31b844fb-4a0a-4258-a516-cf68e7b90fdf",
   "metadata": {},
   "outputs": [],
   "source": [
    "list1 = [1,2,2,2,3,3,3,3,4,4,4,5,5,6,6,6]\n",
    "result = set()\n",
    "for i in list1:\n",
    "    result.add(i)\n",
    "print(result)"
   ]
  },
  {
   "cell_type": "code",
   "execution_count": null,
   "id": "c6643708-8550-4e44-b2eb-62042bd3d7f9",
   "metadata": {},
   "outputs": [],
   "source": [
    "44. Check if two sets have the same elements, regardless of their count."
   ]
  },
  {
   "cell_type": "code",
   "execution_count": null,
   "id": "12e935a7-edb0-4691-a04a-407aba2302eb",
   "metadata": {},
   "outputs": [],
   "source": [
    "# Define two sets\n",
    "set1 = {1, 2, 3, 4}\n",
    "set2 = {4, 3, 2, 1}\n",
    "\n",
    "# Check if the sets are equal (have the same elements)\n",
    "if set1 == set2:\n",
    "    print(\"The sets have the same elements.\")\n",
    "else:\n",
    "    print(\"The sets do not have the same elements.\")\n"
   ]
  },
  {
   "cell_type": "code",
   "execution_count": null,
   "id": "dc573e3d-be6b-4357-9c60-38e7aefff6eb",
   "metadata": {},
   "outputs": [],
   "source": [
    "45. Create a set of the first `n` powers of 2."
   ]
  },
  {
   "cell_type": "code",
   "execution_count": null,
   "id": "eb53b125-0aba-4ac4-96ae-6fde74668e68",
   "metadata": {},
   "outputs": [],
   "source": [
    "n = int(input(\"enter the number\"))\n",
    "result = set()\n",
    "for i in range(1,n):\n",
    "    result.add(i*i)\n",
    "print(result)"
   ]
  },
  {
   "cell_type": "code",
   "execution_count": null,
   "id": "dfdb4e7f-93bd-4812-8409-d729442a4cdf",
   "metadata": {},
   "outputs": [],
   "source": [
    "46. Find the common elements between a set and a list."
   ]
  },
  {
   "cell_type": "code",
   "execution_count": null,
   "id": "74d526ef-1d18-457b-8621-cfb51bb547fe",
   "metadata": {},
   "outputs": [],
   "source": [
    "\n",
    "# Define a set and a list\n",
    "my_set = {1, 2, 3, 4, 5}\n",
    "my_list = [3, 4, 5, 6, 7]\n",
    "\n",
    "# Find common elements using list comprehension\n",
    "common_elements = [x for x in my_list if x in my_set]\n",
    "\n",
    "print(\"Common elements:\", common_elements)\n"
   ]
  },
  {
   "cell_type": "code",
   "execution_count": null,
   "id": "3f50dc28-9535-4929-a08a-036b9e496197",
   "metadata": {},
   "outputs": [],
   "source": [
    "47. Create a set of the first `n` triangular numbers."
   ]
  },
  {
   "cell_type": "code",
   "execution_count": null,
   "id": "9dc4ce1a-9a0a-4678-914d-b90d5f0e989b",
   "metadata": {},
   "outputs": [],
   "source": [
    "def generate_triangular_numbers(n):\n",
    "    triangular_set = set()\n",
    "    for i in range(1, n + 1):\n",
    "        triangular_set.add(i * (i + 1) // 2)\n",
    "    return triangular_set\n",
    "\n",
    "# Generate the first n triangular numbers (replace n with the desired value)\n",
    "n = 5  # You can change this to any positive integer\n",
    "first_n_triangular = generate_triangular_numbers(n)\n",
    "print(first_n_triangular)\n"
   ]
  },
  {
   "cell_type": "code",
   "execution_count": null,
   "id": "eae19038-e4ce-4afc-961c-763a4f1be1d8",
   "metadata": {},
   "outputs": [],
   "source": [
    "48. Check if a set contains another set as a subset."
   ]
  },
  {
   "cell_type": "code",
   "execution_count": null,
   "id": "f543df92-ba92-4a97-b441-22c9abb89e6c",
   "metadata": {},
   "outputs": [],
   "source": [
    "# Define two sets\n",
    "set1 = {1, 2, 3, 4, 5}\n",
    "set2 = {2, 4}\n",
    "\n",
    "# Check if set2 is a subset of set1\n",
    "is_subset = set2.issubset(set1)\n",
    "\n",
    "# Alternatively, you can use the <= operator\n",
    "# is_subset = set2 <= set1\n",
    "\n",
    "if is_subset:\n",
    "    print(\"set2 is a subset of set1\")\n",
    "else:\n",
    "    print(\"set2 is not a subset of set1\")\n"
   ]
  },
  {
   "cell_type": "code",
   "execution_count": null,
   "id": "ae3b53fc-eb12-4a9d-b250-6c069bb07daa",
   "metadata": {},
   "outputs": [],
   "source": [
    "49. Create a set of alternating 1s and 0s of length `n`."
   ]
  },
  {
   "cell_type": "code",
   "execution_count": null,
   "id": "93c0e724-f495-4077-b0ba-8397bad6f803",
   "metadata": {},
   "outputs": [],
   "source": [
    "def create_alternating_set(n):\n",
    "    alternating_set = set()\n",
    "\n",
    "    for i in range(n):\n",
    "        alternating_set.add(i % 2)\n",
    "\n",
    "    return alternating_set\n",
    "\n",
    "\n",
    "n = 10  \n",
    "alternating_set = create_alternating_set(n)\n",
    "print(alternating_set)\n"
   ]
  },
  {
   "cell_type": "code",
   "execution_count": null,
   "id": "006bf6c4-ceda-431f-818e-dc614b806e24",
   "metadata": {},
   "outputs": [],
   "source": [
    "50. Merge multiple sets into one."
   ]
  },
  {
   "cell_type": "code",
   "execution_count": null,
   "id": "98890a50-7f65-49aa-bff4-60e4b143a221",
   "metadata": {},
   "outputs": [],
   "source": [
    "# Define multiple sets\n",
    "set1 = {1, 2, 3}\n",
    "set2 = {3, 4, 5}\n",
    "set3 = {5, 6, 7}\n",
    "\n",
    "# Merge the sets using the union() method\n",
    "merged_set = set1.union(set2, set3)\n",
    "\n",
    "# Alternatively, you can use the | operator\n",
    "# merged_set = set1 | set2 | set3\n",
    "\n",
    "print(merged_set)\n"
   ]
  },
  {
   "cell_type": "code",
   "execution_count": null,
   "id": "56aff72e-760e-42bb-8558-ea79070b002a",
   "metadata": {},
   "outputs": [],
   "source": []
  },
  {
   "cell_type": "code",
   "execution_count": null,
   "id": "d35082a6-c17f-42f6-bbe9-30455d56f4c0",
   "metadata": {},
   "outputs": [],
   "source": []
  }
 ],
 "metadata": {
  "kernelspec": {
   "display_name": "Python 3 (ipykernel)",
   "language": "python",
   "name": "python3"
  },
  "language_info": {
   "codemirror_mode": {
    "name": "ipython",
    "version": 3
   },
   "file_extension": ".py",
   "mimetype": "text/x-python",
   "name": "python",
   "nbconvert_exporter": "python",
   "pygments_lexer": "ipython3",
   "version": "3.10.6"
  }
 },
 "nbformat": 4,
 "nbformat_minor": 5
}
